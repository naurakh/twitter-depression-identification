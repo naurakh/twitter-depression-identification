{
 "cells": [
  {
   "cell_type": "code",
   "execution_count": 2,
   "metadata": {},
   "outputs": [
    {
     "name": "stdout",
     "output_type": "stream",
     "text": [
      "Requirement already satisfied: snscrape in c:\\users\\105na\\anaconda3\\lib\\site-packages (0.3.4)\n",
      "Requirement already satisfied: lxml in c:\\users\\105na\\anaconda3\\lib\\site-packages (from snscrape) (4.5.2)\n",
      "Requirement already satisfied: beautifulsoup4 in c:\\users\\105na\\anaconda3\\lib\\site-packages (from snscrape) (4.9.1)\n",
      "Requirement already satisfied: requests[socks] in c:\\users\\105na\\anaconda3\\lib\\site-packages (from snscrape) (2.24.0)\n",
      "Note: you may need to restart the kernel to use updated packages.Requirement already satisfied: soupsieve>1.2 in c:\\users\\105na\\anaconda3\\lib\\site-packages (from beautifulsoup4->snscrape) (2.0.1)\n",
      "\n",
      "Requirement already satisfied: urllib3!=1.25.0,!=1.25.1,<1.26,>=1.21.1 in c:\\users\\105na\\anaconda3\\lib\\site-packages (from requests[socks]->snscrape) (1.25.9)\n",
      "Requirement already satisfied: idna<3,>=2.5 in c:\\users\\105na\\anaconda3\\lib\\site-packages (from requests[socks]->snscrape) (2.10)\n",
      "Requirement already satisfied: certifi>=2017.4.17 in c:\\users\\105na\\anaconda3\\lib\\site-packages (from requests[socks]->snscrape) (2020.6.20)\n",
      "Requirement already satisfied: chardet<4,>=3.0.2 in c:\\users\\105na\\anaconda3\\lib\\site-packages (from requests[socks]->snscrape) (3.0.4)\n",
      "Requirement already satisfied: PySocks!=1.5.7,>=1.5.6; extra == \"socks\" in c:\\users\\105na\\anaconda3\\lib\\site-packages (from requests[socks]->snscrape) (1.7.1)\n"
     ]
    }
   ],
   "source": [
    "pip install snscrape"
   ]
  },
  {
   "cell_type": "code",
   "execution_count": 1,
   "metadata": {},
   "outputs": [],
   "source": [
    "import snscrape.modules.twitter as sntwitter\n",
    "import pandas as pd"
   ]
  },
  {
   "cell_type": "code",
   "execution_count": 3,
   "metadata": {},
   "outputs": [],
   "source": [
    "user1 = []\n",
    "maxTweets = 500\n",
    "\n",
    "for i,tweet in enumerate(sntwitter.TwitterSearchScraper('from:sweetiebiy since:2020-10-01 until:2020-12-30 lang:id -filter:retweets -filter:replies -filter:links').get_items()):\n",
    "    if i > maxTweets:\n",
    "        break\n",
    "    user1.append([tweet.date, tweet.id, tweet.content, tweet.username])"
   ]
  },
  {
   "cell_type": "code",
   "execution_count": 4,
   "metadata": {},
   "outputs": [
    {
     "data": {
      "text/plain": [
       "Datetime    10\n",
       "TweetID     10\n",
       "Text        10\n",
       "Username    10\n",
       "dtype: int64"
      ]
     },
     "execution_count": 4,
     "metadata": {},
     "output_type": "execute_result"
    }
   ],
   "source": [
    "df1 = pd.DataFrame(user1, columns=['Datetime', 'TweetID', 'Text', 'Username'])\n",
    "df1.count()"
   ]
  },
  {
   "cell_type": "code",
   "execution_count": 5,
   "metadata": {},
   "outputs": [],
   "source": [
    "user2 = []\n",
    "maxTweets = 500\n",
    "\n",
    "for i,tweet in enumerate(sntwitter.TwitterSearchScraper('from:inqurior since:2020-10-01 until:2020-12-30 lang:id -filter:retweets -filter:replies -filter:links').get_items()):\n",
    "    if i > maxTweets:\n",
    "        break\n",
    "    user2.append([tweet.date, tweet.id, tweet.content, tweet.username])"
   ]
  },
  {
   "cell_type": "code",
   "execution_count": 6,
   "metadata": {},
   "outputs": [
    {
     "data": {
      "text/plain": [
       "Datetime    81\n",
       "TweetID     81\n",
       "Text        81\n",
       "Username    81\n",
       "dtype: int64"
      ]
     },
     "execution_count": 6,
     "metadata": {},
     "output_type": "execute_result"
    }
   ],
   "source": [
    "df2 = pd.DataFrame(user2, columns=['Datetime', 'TweetID', 'Text', 'Username'])\n",
    "df2.count()"
   ]
  },
  {
   "cell_type": "code",
   "execution_count": 82,
   "metadata": {},
   "outputs": [],
   "source": [
    "user3 = []\n",
    "maxTweets = 500\n",
    "\n",
    "for i,tweet in enumerate(sntwitter.TwitterSearchScraper('from:Revan_Blue98 since:2020-10-01 until:2020-11-30 lang:id -filter:retweets -filter:replies -filter:links').get_items()):\n",
    "    if i > maxTweets:\n",
    "        break\n",
    "    user3.append([tweet.date, tweet.id, tweet.content, tweet.username])"
   ]
  },
  {
   "cell_type": "code",
   "execution_count": 83,
   "metadata": {},
   "outputs": [
    {
     "data": {
      "text/plain": [
       "Datetime    434\n",
       "TweetID     434\n",
       "Text        434\n",
       "Username    434\n",
       "dtype: int64"
      ]
     },
     "execution_count": 83,
     "metadata": {},
     "output_type": "execute_result"
    }
   ],
   "source": [
    "df3 = pd.DataFrame(user3, columns=['Datetime', 'TweetID', 'Text', 'Username'])\n",
    "df3.count()"
   ]
  },
  {
   "cell_type": "code",
   "execution_count": 9,
   "metadata": {},
   "outputs": [],
   "source": [
    "user4 = []\n",
    "maxTweets = 500\n",
    "\n",
    "for i,tweet in enumerate(sntwitter.TwitterSearchScraper('from:kathehehehee since:2020-10-01 until:2020-12-30 lang:id -filter:retweets -filter:replies -filter:links').get_items()):\n",
    "    if i > maxTweets:\n",
    "        break\n",
    "    user4.append([tweet.date, tweet.id, tweet.content, tweet.username])"
   ]
  },
  {
   "cell_type": "code",
   "execution_count": 10,
   "metadata": {},
   "outputs": [
    {
     "data": {
      "text/plain": [
       "Datetime    5\n",
       "TweetID     5\n",
       "Text        5\n",
       "Username    5\n",
       "dtype: int64"
      ]
     },
     "execution_count": 10,
     "metadata": {},
     "output_type": "execute_result"
    }
   ],
   "source": [
    "df4 = pd.DataFrame(user4, columns=['Datetime', 'TweetID', 'Text', 'Username'])\n",
    "df4.count()"
   ]
  },
  {
   "cell_type": "code",
   "execution_count": 11,
   "metadata": {},
   "outputs": [],
   "source": [
    "user5 = []\n",
    "maxTweets = 500\n",
    "\n",
    "for i,tweet in enumerate(sntwitter.TwitterSearchScraper('from:ayudityas_ since:2020-10-01 until:2020-12-30 lang:id -filter:retweets -filter:replies -filter:links').get_items()):\n",
    "    if i > maxTweets:\n",
    "        break\n",
    "    user5.append([tweet.date, tweet.id, tweet.content, tweet.username])"
   ]
  },
  {
   "cell_type": "code",
   "execution_count": 12,
   "metadata": {},
   "outputs": [
    {
     "data": {
      "text/plain": [
       "Datetime    217\n",
       "TweetID     217\n",
       "Text        217\n",
       "Username    217\n",
       "dtype: int64"
      ]
     },
     "execution_count": 12,
     "metadata": {},
     "output_type": "execute_result"
    }
   ],
   "source": [
    "df5 = pd.DataFrame(user5, columns=['Datetime', 'TweetID', 'Text', 'Username'])\n",
    "df5.count()"
   ]
  },
  {
   "cell_type": "code",
   "execution_count": 13,
   "metadata": {},
   "outputs": [],
   "source": [
    "user6 = []\n",
    "maxTweets = 500\n",
    "\n",
    "for i,tweet in enumerate(sntwitter.TwitterSearchScraper('from:HhalahBacottt since:2020-10-01 until:2020-12-30 lang:id -filter:retweets -filter:replies -filter:links').get_items()):\n",
    "    if i > maxTweets:\n",
    "        break\n",
    "    user6.append([tweet.date, tweet.id, tweet.content, tweet.username])"
   ]
  },
  {
   "cell_type": "code",
   "execution_count": 14,
   "metadata": {},
   "outputs": [
    {
     "data": {
      "text/plain": [
       "Datetime    20\n",
       "TweetID     20\n",
       "Text        20\n",
       "Username    20\n",
       "dtype: int64"
      ]
     },
     "execution_count": 14,
     "metadata": {},
     "output_type": "execute_result"
    }
   ],
   "source": [
    "df6 = pd.DataFrame(user6, columns=['Datetime', 'TweetID', 'Text', 'Username'])\n",
    "df6.count()"
   ]
  },
  {
   "cell_type": "code",
   "execution_count": 15,
   "metadata": {},
   "outputs": [],
   "source": [
    "user7 = []\n",
    "maxTweets = 500\n",
    "\n",
    "for i,tweet in enumerate(sntwitter.TwitterSearchScraper('from:vlaminggow since:2020-10-01 until:2020-12-30 lang:id -filter:retweets -filter:replies -filter:links').get_items()):\n",
    "    if i > maxTweets:\n",
    "        break\n",
    "    user7.append([tweet.date, tweet.id, tweet.content, tweet.username])"
   ]
  },
  {
   "cell_type": "code",
   "execution_count": 16,
   "metadata": {},
   "outputs": [
    {
     "data": {
      "text/plain": [
       "Datetime    140\n",
       "TweetID     140\n",
       "Text        140\n",
       "Username    140\n",
       "dtype: int64"
      ]
     },
     "execution_count": 16,
     "metadata": {},
     "output_type": "execute_result"
    }
   ],
   "source": [
    "df7 = pd.DataFrame(user7, columns=['Datetime', 'TweetID', 'Text', 'Username'])\n",
    "df7.count()"
   ]
  },
  {
   "cell_type": "code",
   "execution_count": 17,
   "metadata": {},
   "outputs": [],
   "source": [
    "user8 = []\n",
    "maxTweets = 500\n",
    "\n",
    "for i,tweet in enumerate(sntwitter.TwitterSearchScraper('from:ertyayart since:2020-10-01 until:2020-12-30 lang:id -filter:retweets -filter:replies -filter:links').get_items()):\n",
    "    if i > maxTweets:\n",
    "        break\n",
    "    user8.append([tweet.date, tweet.id, tweet.content, tweet.username])"
   ]
  },
  {
   "cell_type": "code",
   "execution_count": 18,
   "metadata": {},
   "outputs": [
    {
     "data": {
      "text/plain": [
       "Datetime    27\n",
       "TweetID     27\n",
       "Text        27\n",
       "Username    27\n",
       "dtype: int64"
      ]
     },
     "execution_count": 18,
     "metadata": {},
     "output_type": "execute_result"
    }
   ],
   "source": [
    "df8 = pd.DataFrame(user8, columns=['Datetime', 'TweetID', 'Text', 'Username'])\n",
    "df8.count()"
   ]
  },
  {
   "cell_type": "code",
   "execution_count": 19,
   "metadata": {},
   "outputs": [],
   "source": [
    "user9 = []\n",
    "maxTweets = 500\n",
    "\n",
    "for i,tweet in enumerate(sntwitter.TwitterSearchScraper('from:DesyChintyaa since:2020-10-01 until:2020-12-30 lang:id -filter:retweets -filter:replies -filter:links').get_items()):\n",
    "    if i > maxTweets:\n",
    "        break\n",
    "    user9.append([tweet.date, tweet.id, tweet.content, tweet.username])"
   ]
  },
  {
   "cell_type": "code",
   "execution_count": 20,
   "metadata": {},
   "outputs": [
    {
     "data": {
      "text/plain": [
       "Datetime    34\n",
       "TweetID     34\n",
       "Text        34\n",
       "Username    34\n",
       "dtype: int64"
      ]
     },
     "execution_count": 20,
     "metadata": {},
     "output_type": "execute_result"
    }
   ],
   "source": [
    "df9 = pd.DataFrame(user9, columns=['Datetime', 'TweetID', 'Text', 'Username'])\n",
    "df9.count()"
   ]
  },
  {
   "cell_type": "code",
   "execution_count": 21,
   "metadata": {},
   "outputs": [],
   "source": [
    "user10 = []\n",
    "maxTweets = 500\n",
    "\n",
    "for i,tweet in enumerate(sntwitter.TwitterSearchScraper('from:Srnsp1 since:2020-10-01 until:2020-12-30 lang:id -filter:retweets -filter:replies -filter:links').get_items()):\n",
    "    if i > maxTweets:\n",
    "        break\n",
    "    user10.append([tweet.date, tweet.id, tweet.content, tweet.username])"
   ]
  },
  {
   "cell_type": "code",
   "execution_count": 22,
   "metadata": {},
   "outputs": [
    {
     "data": {
      "text/plain": [
       "Datetime    397\n",
       "TweetID     397\n",
       "Text        397\n",
       "Username    397\n",
       "dtype: int64"
      ]
     },
     "execution_count": 22,
     "metadata": {},
     "output_type": "execute_result"
    }
   ],
   "source": [
    "df10 = pd.DataFrame(user10, columns=['Datetime', 'TweetID', 'Text', 'Username'])\n",
    "df10.count()"
   ]
  },
  {
   "cell_type": "code",
   "execution_count": 23,
   "metadata": {},
   "outputs": [],
   "source": [
    "user11 = []\n",
    "maxTweets = 500\n",
    "\n",
    "for i,tweet in enumerate(sntwitter.TwitterSearchScraper('from:reuxdevoyez since:2020-10-01 until:2020-12-30 lang:id -filter:retweets -filter:replies -filter:links').get_items()):\n",
    "    if i > maxTweets:\n",
    "        break\n",
    "    user11.append([tweet.date, tweet.id, tweet.content, tweet.username])"
   ]
  },
  {
   "cell_type": "code",
   "execution_count": 24,
   "metadata": {},
   "outputs": [
    {
     "data": {
      "text/plain": [
       "Datetime    85\n",
       "TweetID     85\n",
       "Text        85\n",
       "Username    85\n",
       "dtype: int64"
      ]
     },
     "execution_count": 24,
     "metadata": {},
     "output_type": "execute_result"
    }
   ],
   "source": [
    "df11 = pd.DataFrame(user11, columns=['Datetime', 'TweetID', 'Text', 'Username'])\n",
    "df11.count()"
   ]
  },
  {
   "cell_type": "code",
   "execution_count": 25,
   "metadata": {},
   "outputs": [],
   "source": [
    "user12 = []\n",
    "maxTweets = 500\n",
    "\n",
    "for i,tweet in enumerate(sntwitter.TwitterSearchScraper('from:kaneyyya since:2020-10-01 until:2020-12-30 lang:id -filter:retweets -filter:replies -filter:links').get_items()):\n",
    "    if i > maxTweets:\n",
    "        break\n",
    "    user12.append([tweet.date, tweet.id, tweet.content, tweet.username])"
   ]
  },
  {
   "cell_type": "code",
   "execution_count": 26,
   "metadata": {},
   "outputs": [
    {
     "data": {
      "text/plain": [
       "Datetime    80\n",
       "TweetID     80\n",
       "Text        80\n",
       "Username    80\n",
       "dtype: int64"
      ]
     },
     "execution_count": 26,
     "metadata": {},
     "output_type": "execute_result"
    }
   ],
   "source": [
    "df12 = pd.DataFrame(user12, columns=['Datetime', 'TweetID', 'Text', 'Username'])\n",
    "df12.count()"
   ]
  },
  {
   "cell_type": "code",
   "execution_count": 27,
   "metadata": {},
   "outputs": [],
   "source": [
    "user13 = []\n",
    "maxTweets = 500\n",
    "\n",
    "for i,tweet in enumerate(sntwitter.TwitterSearchScraper('from:bilalisya since:2020-10-01 until:2020-12-30 lang:id -filter:retweets -filter:replies -filter:links').get_items()):\n",
    "    if i > maxTweets:\n",
    "        break\n",
    "    user13.append([tweet.date, tweet.id, tweet.content, tweet.username])"
   ]
  },
  {
   "cell_type": "code",
   "execution_count": 28,
   "metadata": {},
   "outputs": [
    {
     "data": {
      "text/plain": [
       "Datetime    57\n",
       "TweetID     57\n",
       "Text        57\n",
       "Username    57\n",
       "dtype: int64"
      ]
     },
     "execution_count": 28,
     "metadata": {},
     "output_type": "execute_result"
    }
   ],
   "source": [
    "df13 = pd.DataFrame(user13, columns=['Datetime', 'TweetID', 'Text', 'Username'])\n",
    "df13.count()"
   ]
  },
  {
   "cell_type": "code",
   "execution_count": 29,
   "metadata": {},
   "outputs": [],
   "source": [
    "user14 = []\n",
    "maxTweets = 500\n",
    "\n",
    "for i,tweet in enumerate(sntwitter.TwitterSearchScraper('from:autobiografibio since:2020-10-01 until:2020-12-30 lang:id -filter:retweets -filter:replies -filter:links').get_items()):\n",
    "    if i > maxTweets:\n",
    "        break\n",
    "    user14.append([tweet.date, tweet.id, tweet.content, tweet.username])"
   ]
  },
  {
   "cell_type": "code",
   "execution_count": 30,
   "metadata": {},
   "outputs": [
    {
     "data": {
      "text/plain": [
       "Datetime    78\n",
       "TweetID     78\n",
       "Text        78\n",
       "Username    78\n",
       "dtype: int64"
      ]
     },
     "execution_count": 30,
     "metadata": {},
     "output_type": "execute_result"
    }
   ],
   "source": [
    "df14 = pd.DataFrame(user14, columns=['Datetime', 'TweetID', 'Text', 'Username'])\n",
    "df14.count()"
   ]
  },
  {
   "cell_type": "code",
   "execution_count": 31,
   "metadata": {},
   "outputs": [],
   "source": [
    "user15 = []\n",
    "maxTweets = 500\n",
    "\n",
    "for i,tweet in enumerate(sntwitter.TwitterSearchScraper('from:KhairaniFadilla since:2020-10-01 until:2020-12-30 lang:id -filter:retweets -filter:replies -filter:links').get_items()):\n",
    "    if i > maxTweets:\n",
    "        break\n",
    "    user15.append([tweet.date, tweet.id, tweet.content, tweet.username])"
   ]
  },
  {
   "cell_type": "code",
   "execution_count": 32,
   "metadata": {},
   "outputs": [
    {
     "data": {
      "text/plain": [
       "Datetime    98\n",
       "TweetID     98\n",
       "Text        98\n",
       "Username    98\n",
       "dtype: int64"
      ]
     },
     "execution_count": 32,
     "metadata": {},
     "output_type": "execute_result"
    }
   ],
   "source": [
    "df15 = pd.DataFrame(user15, columns=['Datetime', 'TweetID', 'Text', 'Username'])\n",
    "df15.count()"
   ]
  },
  {
   "cell_type": "code",
   "execution_count": 33,
   "metadata": {},
   "outputs": [],
   "source": [
    "user16 = []\n",
    "maxTweets = 500\n",
    "\n",
    "for i,tweet in enumerate(sntwitter.TwitterSearchScraper('from:bububunny_ since:2020-10-01 until:2020-12-30 lang:id -filter:retweets -filter:replies -filter:links').get_items()):\n",
    "    if i > maxTweets:\n",
    "        break\n",
    "    user16.append([tweet.date, tweet.id, tweet.content, tweet.username])"
   ]
  },
  {
   "cell_type": "code",
   "execution_count": 34,
   "metadata": {},
   "outputs": [
    {
     "data": {
      "text/plain": [
       "Datetime    488\n",
       "TweetID     488\n",
       "Text        488\n",
       "Username    488\n",
       "dtype: int64"
      ]
     },
     "execution_count": 34,
     "metadata": {},
     "output_type": "execute_result"
    }
   ],
   "source": [
    "df16 = pd.DataFrame(user16, columns=['Datetime', 'TweetID', 'Text', 'Username'])\n",
    "df16.count()"
   ]
  },
  {
   "cell_type": "code",
   "execution_count": 35,
   "metadata": {},
   "outputs": [],
   "source": [
    "user17 = []\n",
    "maxTweets = 500\n",
    "\n",
    "for i,tweet in enumerate(sntwitter.TwitterSearchScraper('from:bukanhumanwes since:2020-10-01 until:2020-12-30 lang:id -filter:retweets -filter:replies -filter:links').get_items()):\n",
    "    if i > maxTweets:\n",
    "        break\n",
    "    user17.append([tweet.date, tweet.id, tweet.content, tweet.username])"
   ]
  },
  {
   "cell_type": "code",
   "execution_count": 36,
   "metadata": {},
   "outputs": [
    {
     "data": {
      "text/plain": [
       "Datetime    152\n",
       "TweetID     152\n",
       "Text        152\n",
       "Username    152\n",
       "dtype: int64"
      ]
     },
     "execution_count": 36,
     "metadata": {},
     "output_type": "execute_result"
    }
   ],
   "source": [
    "df17 = pd.DataFrame(user17, columns=['Datetime', 'TweetID', 'Text', 'Username'])\n",
    "df17.count()"
   ]
  },
  {
   "cell_type": "code",
   "execution_count": 37,
   "metadata": {},
   "outputs": [],
   "source": [
    "user18 = []\n",
    "maxTweets = 500\n",
    "\n",
    "for i,tweet in enumerate(sntwitter.TwitterSearchScraper('from:Sunshinejinan__ since:2020-10-01 until:2020-12-30 lang:id -filter:retweets -filter:replies -filter:links').get_items()):\n",
    "    if i > maxTweets:\n",
    "        break\n",
    "    user18.append([tweet.date, tweet.id, tweet.content, tweet.username])"
   ]
  },
  {
   "cell_type": "code",
   "execution_count": 38,
   "metadata": {},
   "outputs": [
    {
     "data": {
      "text/plain": [
       "Datetime    476\n",
       "TweetID     476\n",
       "Text        476\n",
       "Username    476\n",
       "dtype: int64"
      ]
     },
     "execution_count": 38,
     "metadata": {},
     "output_type": "execute_result"
    }
   ],
   "source": [
    "df18 = pd.DataFrame(user18, columns=['Datetime', 'TweetID', 'Text', 'Username'])\n",
    "df18.count()"
   ]
  },
  {
   "cell_type": "code",
   "execution_count": 39,
   "metadata": {},
   "outputs": [],
   "source": [
    "user19 = []\n",
    "maxTweets = 500\n",
    "\n",
    "for i,tweet in enumerate(sntwitter.TwitterSearchScraper('from:keroropanda since:2020-10-01 until:2020-12-30 lang:id -filter:retweets -filter:replies -filter:links').get_items()):\n",
    "    if i > maxTweets:\n",
    "        break\n",
    "    user19.append([tweet.date, tweet.id, tweet.content, tweet.username])"
   ]
  },
  {
   "cell_type": "code",
   "execution_count": 40,
   "metadata": {},
   "outputs": [
    {
     "data": {
      "text/plain": [
       "Datetime    248\n",
       "TweetID     248\n",
       "Text        248\n",
       "Username    248\n",
       "dtype: int64"
      ]
     },
     "execution_count": 40,
     "metadata": {},
     "output_type": "execute_result"
    }
   ],
   "source": [
    "df19 = pd.DataFrame(user19, columns=['Datetime', 'TweetID', 'Text', 'Username'])\n",
    "df19.count()"
   ]
  },
  {
   "cell_type": "code",
   "execution_count": 45,
   "metadata": {},
   "outputs": [],
   "source": [
    "user20 = []\n",
    "maxTweets = 500\n",
    "\n",
    "for i,tweet in enumerate(sntwitter.TwitterSearchScraper('from:rachellnababan since:2020-10-01 until:2020-12-30 lang:id -filter:retweets -filter:replies -filter:links').get_items()):\n",
    "    if i > maxTweets:\n",
    "        break\n",
    "    user20.append([tweet.date, tweet.id, tweet.content, tweet.username])"
   ]
  },
  {
   "cell_type": "code",
   "execution_count": 46,
   "metadata": {},
   "outputs": [
    {
     "data": {
      "text/plain": [
       "Datetime    42\n",
       "TweetID     42\n",
       "Text        42\n",
       "Username    42\n",
       "dtype: int64"
      ]
     },
     "execution_count": 46,
     "metadata": {},
     "output_type": "execute_result"
    }
   ],
   "source": [
    "df20 = pd.DataFrame(user20, columns=['Datetime', 'TweetID', 'Text', 'Username'])\n",
    "df20.count()"
   ]
  },
  {
   "cell_type": "code",
   "execution_count": 47,
   "metadata": {},
   "outputs": [],
   "source": [
    "user21 = []\n",
    "maxTweets = 500\n",
    "\n",
    "for i,tweet in enumerate(sntwitter.TwitterSearchScraper('from:pepepeeepwwww since:2020-10-01 until:2020-12-30 lang:id -filter:retweets -filter:replies -filter:links').get_items()):\n",
    "    if i > maxTweets:\n",
    "        break\n",
    "    user21.append([tweet.date, tweet.id, tweet.content, tweet.username])"
   ]
  },
  {
   "cell_type": "code",
   "execution_count": 48,
   "metadata": {},
   "outputs": [
    {
     "data": {
      "text/plain": [
       "Datetime    87\n",
       "TweetID     87\n",
       "Text        87\n",
       "Username    87\n",
       "dtype: int64"
      ]
     },
     "execution_count": 48,
     "metadata": {},
     "output_type": "execute_result"
    }
   ],
   "source": [
    "df21 = pd.DataFrame(user21, columns=['Datetime', 'TweetID', 'Text', 'Username'])\n",
    "df21.count()"
   ]
  },
  {
   "cell_type": "code",
   "execution_count": 49,
   "metadata": {},
   "outputs": [],
   "source": [
    "user22 = []\n",
    "maxTweets = 500\n",
    "\n",
    "for i,tweet in enumerate(sntwitter.TwitterSearchScraper('from:halluismine since:2020-10-01 until:2020-12-30 lang:id -filter:retweets -filter:replies -filter:links').get_items()):\n",
    "    if i > maxTweets:\n",
    "        break\n",
    "    user22.append([tweet.date, tweet.id, tweet.content, tweet.username])"
   ]
  },
  {
   "cell_type": "code",
   "execution_count": 50,
   "metadata": {},
   "outputs": [
    {
     "data": {
      "text/plain": [
       "Datetime    369\n",
       "TweetID     369\n",
       "Text        369\n",
       "Username    369\n",
       "dtype: int64"
      ]
     },
     "execution_count": 50,
     "metadata": {},
     "output_type": "execute_result"
    }
   ],
   "source": [
    "df22 = pd.DataFrame(user22, columns=['Datetime', 'TweetID', 'Text', 'Username'])\n",
    "df22.count()"
   ]
  },
  {
   "cell_type": "code",
   "execution_count": 51,
   "metadata": {},
   "outputs": [],
   "source": [
    "user23 = []\n",
    "maxTweets = 500\n",
    "\n",
    "for i,tweet in enumerate(sntwitter.TwitterSearchScraper('from:nad_yumna since:2020-10-01 until:2020-12-30 lang:id -filter:retweets -filter:replies -filter:links').get_items()):\n",
    "    if i > maxTweets:\n",
    "        break\n",
    "    user23.append([tweet.date, tweet.id, tweet.content, tweet.username])"
   ]
  },
  {
   "cell_type": "code",
   "execution_count": 52,
   "metadata": {},
   "outputs": [
    {
     "data": {
      "text/plain": [
       "Datetime    36\n",
       "TweetID     36\n",
       "Text        36\n",
       "Username    36\n",
       "dtype: int64"
      ]
     },
     "execution_count": 52,
     "metadata": {},
     "output_type": "execute_result"
    }
   ],
   "source": [
    "df23 = pd.DataFrame(user23, columns=['Datetime', 'TweetID', 'Text', 'Username'])\n",
    "df23.count()"
   ]
  },
  {
   "cell_type": "code",
   "execution_count": 53,
   "metadata": {},
   "outputs": [],
   "source": [
    "user24 = []\n",
    "maxTweets = 500\n",
    "\n",
    "for i,tweet in enumerate(sntwitter.TwitterSearchScraper('from:keketable since:2020-10-01 until:2020-12-30 lang:id -filter:retweets -filter:replies -filter:links').get_items()):\n",
    "    if i > maxTweets:\n",
    "        break\n",
    "    user24.append([tweet.date, tweet.id, tweet.content, tweet.username])"
   ]
  },
  {
   "cell_type": "code",
   "execution_count": 54,
   "metadata": {},
   "outputs": [
    {
     "data": {
      "text/plain": [
       "Datetime    24\n",
       "TweetID     24\n",
       "Text        24\n",
       "Username    24\n",
       "dtype: int64"
      ]
     },
     "execution_count": 54,
     "metadata": {},
     "output_type": "execute_result"
    }
   ],
   "source": [
    "df24 = pd.DataFrame(user24, columns=['Datetime', 'TweetID', 'Text', 'Username'])\n",
    "df24.count()"
   ]
  },
  {
   "cell_type": "code",
   "execution_count": 55,
   "metadata": {},
   "outputs": [],
   "source": [
    "user25 = []\n",
    "maxTweets = 500\n",
    "\n",
    "for i,tweet in enumerate(sntwitter.TwitterSearchScraper('from:yayahllw since:2020-10-01 until:2020-12-30 lang:id -filter:retweets -filter:replies -filter:links').get_items()):\n",
    "    if i > maxTweets:\n",
    "        break\n",
    "    user25.append([tweet.date, tweet.id, tweet.content, tweet.username])"
   ]
  },
  {
   "cell_type": "code",
   "execution_count": 57,
   "metadata": {},
   "outputs": [
    {
     "data": {
      "text/plain": [
       "Datetime    48\n",
       "TweetID     48\n",
       "Text        48\n",
       "Username    48\n",
       "dtype: int64"
      ]
     },
     "execution_count": 57,
     "metadata": {},
     "output_type": "execute_result"
    }
   ],
   "source": [
    "df25 = pd.DataFrame(user25, columns=['Datetime', 'TweetID', 'Text', 'Username'])\n",
    "df25.count()"
   ]
  },
  {
   "cell_type": "code",
   "execution_count": 58,
   "metadata": {},
   "outputs": [],
   "source": [
    "user26 = []\n",
    "maxTweets = 500\n",
    "\n",
    "for i,tweet in enumerate(sntwitter.TwitterSearchScraper('from:greennyroses since:2020-10-01 until:2020-12-30 lang:id -filter:retweets -filter:replies -filter:links').get_items()):\n",
    "    if i > maxTweets:\n",
    "        break\n",
    "    user26.append([tweet.date, tweet.id, tweet.content, tweet.username])\n",
    "    "
   ]
  },
  {
   "cell_type": "code",
   "execution_count": 59,
   "metadata": {},
   "outputs": [
    {
     "data": {
      "text/plain": [
       "Datetime    7\n",
       "TweetID     7\n",
       "Text        7\n",
       "Username    7\n",
       "dtype: int64"
      ]
     },
     "execution_count": 59,
     "metadata": {},
     "output_type": "execute_result"
    }
   ],
   "source": [
    "df26 = pd.DataFrame(user26, columns=['Datetime', 'TweetID', 'Text', 'Username'])\n",
    "df26.count()"
   ]
  },
  {
   "cell_type": "code",
   "execution_count": 60,
   "metadata": {},
   "outputs": [],
   "source": [
    "user27 = []\n",
    "maxTweets = 500\n",
    "\n",
    "for i,tweet in enumerate(sntwitter.TwitterSearchScraper('from:kelupaann since:2020-10-01 until:2020-12-30 lang:id -filter:retweets -filter:replies -filter:links').get_items()):\n",
    "    if i > maxTweets:\n",
    "        break\n",
    "    user27.append([tweet.date, tweet.id, tweet.content, tweet.username])"
   ]
  },
  {
   "cell_type": "code",
   "execution_count": 61,
   "metadata": {},
   "outputs": [
    {
     "data": {
      "text/plain": [
       "Datetime    29\n",
       "TweetID     29\n",
       "Text        29\n",
       "Username    29\n",
       "dtype: int64"
      ]
     },
     "execution_count": 61,
     "metadata": {},
     "output_type": "execute_result"
    }
   ],
   "source": [
    "df27 = pd.DataFrame(user27, columns=['Datetime', 'TweetID', 'Text', 'Username'])\n",
    "df27.count()"
   ]
  },
  {
   "cell_type": "code",
   "execution_count": 66,
   "metadata": {},
   "outputs": [],
   "source": [
    "user28 = []\n",
    "maxTweets = 500\n",
    "\n",
    "for i,tweet in enumerate(sntwitter.TwitterSearchScraper('from:poutyjaypark since:2020-10-01 until:2020-12-30 lang:id -filter:retweets -filter:replies -filter:links').get_items()):\n",
    "    if i > maxTweets:\n",
    "        break\n",
    "    user28.append([tweet.date, tweet.id, tweet.content, tweet.username])"
   ]
  },
  {
   "cell_type": "code",
   "execution_count": 67,
   "metadata": {},
   "outputs": [
    {
     "data": {
      "text/plain": [
       "Datetime    443\n",
       "TweetID     443\n",
       "Text        443\n",
       "Username    443\n",
       "dtype: int64"
      ]
     },
     "execution_count": 67,
     "metadata": {},
     "output_type": "execute_result"
    }
   ],
   "source": [
    "df28 = pd.DataFrame(user28, columns=['Datetime', 'TweetID', 'Text', 'Username'])\n",
    "df28.count()"
   ]
  },
  {
   "cell_type": "code",
   "execution_count": 68,
   "metadata": {},
   "outputs": [],
   "source": [
    "user29 = []\n",
    "maxTweets = 500\n",
    "\n",
    "for i,tweet in enumerate(sntwitter.TwitterSearchScraper('from:itsyohanabilla since:2020-10-01 until:2020-12-30 lang:id -filter:retweets -filter:replies -filter:links').get_items()):\n",
    "    if i > maxTweets:\n",
    "        break\n",
    "    user29.append([tweet.date, tweet.id, tweet.content, tweet.username])"
   ]
  },
  {
   "cell_type": "code",
   "execution_count": 69,
   "metadata": {},
   "outputs": [
    {
     "data": {
      "text/plain": [
       "Datetime    22\n",
       "TweetID     22\n",
       "Text        22\n",
       "Username    22\n",
       "dtype: int64"
      ]
     },
     "execution_count": 69,
     "metadata": {},
     "output_type": "execute_result"
    }
   ],
   "source": [
    "df29 = pd.DataFrame(user29, columns=['Datetime', 'TweetID', 'Text', 'Username'])\n",
    "df29.count()"
   ]
  },
  {
   "cell_type": "code",
   "execution_count": 77,
   "metadata": {},
   "outputs": [],
   "source": [
    "user30 = []\n",
    "maxTweets = 500\n",
    "\n",
    "for i,tweet in enumerate(sntwitter.TwitterSearchScraper('from:sweetycheeze since:2020-10-01 until:2020-12-30 lang:id -filter:retweets -filter:replies -filter:links').get_items()):\n",
    "    if i > maxTweets:\n",
    "        break\n",
    "    user30.append([tweet.date, tweet.id, tweet.content, tweet.username])"
   ]
  },
  {
   "cell_type": "code",
   "execution_count": 78,
   "metadata": {},
   "outputs": [
    {
     "data": {
      "text/plain": [
       "Datetime    237\n",
       "TweetID     237\n",
       "Text        237\n",
       "Username    237\n",
       "dtype: int64"
      ]
     },
     "execution_count": 78,
     "metadata": {},
     "output_type": "execute_result"
    }
   ],
   "source": [
    "df30 = pd.DataFrame(user30, columns=['Datetime', 'TweetID', 'Text', 'Username'])\n",
    "df30.count()"
   ]
  },
  {
   "cell_type": "code",
   "execution_count": 79,
   "metadata": {},
   "outputs": [],
   "source": [
    "frames = [df1, df2, df3, df4, df5, df6, df7, df8, df9, df10, \n",
    "          df11, df12, df13, df14, df15, df16, df17, df18, df19, df20, \n",
    "          df21, df22, df23, df24, df25, df26, df27, df28, df29, df30]\n",
    "result = pd.concat(frames)"
   ]
  },
  {
   "cell_type": "code",
   "execution_count": 80,
   "metadata": {},
   "outputs": [
    {
     "name": "stdout",
     "output_type": "stream",
     "text": [
      "<class 'pandas.core.frame.DataFrame'>\n",
      "Int64Index: 4538 entries, 0 to 236\n",
      "Data columns (total 4 columns):\n",
      " #   Column    Non-Null Count  Dtype              \n",
      "---  ------    --------------  -----              \n",
      " 0   Datetime  4538 non-null   datetime64[ns, UTC]\n",
      " 1   TweetID   4538 non-null   int64              \n",
      " 2   Text      4538 non-null   object             \n",
      " 3   Username  4538 non-null   object             \n",
      "dtypes: datetime64[ns, UTC](1), int64(1), object(2)\n",
      "memory usage: 177.3+ KB\n"
     ]
    },
    {
     "data": {
      "text/html": [
       "<div>\n",
       "<style scoped>\n",
       "    .dataframe tbody tr th:only-of-type {\n",
       "        vertical-align: middle;\n",
       "    }\n",
       "\n",
       "    .dataframe tbody tr th {\n",
       "        vertical-align: top;\n",
       "    }\n",
       "\n",
       "    .dataframe thead th {\n",
       "        text-align: right;\n",
       "    }\n",
       "</style>\n",
       "<table border=\"1\" class=\"dataframe\">\n",
       "  <thead>\n",
       "    <tr style=\"text-align: right;\">\n",
       "      <th></th>\n",
       "      <th>Datetime</th>\n",
       "      <th>TweetID</th>\n",
       "      <th>Text</th>\n",
       "      <th>Username</th>\n",
       "    </tr>\n",
       "  </thead>\n",
       "  <tbody>\n",
       "    <tr>\n",
       "      <th>0</th>\n",
       "      <td>2020-10-31 06:10:22+00:00</td>\n",
       "      <td>1322420631590240260</td>\n",
       "      <td>biasa bgt ngchat klo lgi butuh doang 😂</td>\n",
       "      <td>sweetiebiy</td>\n",
       "    </tr>\n",
       "    <tr>\n",
       "      <th>1</th>\n",
       "      <td>2020-10-22 09:05:58+00:00</td>\n",
       "      <td>1319203329470132227</td>\n",
       "      <td>bener² ya sebentarnya bude itu bisa buat nonto...</td>\n",
       "      <td>sweetiebiy</td>\n",
       "    </tr>\n",
       "    <tr>\n",
       "      <th>2</th>\n",
       "      <td>2020-10-20 05:24:24+00:00</td>\n",
       "      <td>1318422797215887360</td>\n",
       "      <td>beruntunglah kalian yg bisa BAB lancar</td>\n",
       "      <td>sweetiebiy</td>\n",
       "    </tr>\n",
       "    <tr>\n",
       "      <th>3</th>\n",
       "      <td>2020-10-19 09:16:28+00:00</td>\n",
       "      <td>1318118811803938819</td>\n",
       "      <td>Tertampar vokal dan suaranya mereka... Gila se...</td>\n",
       "      <td>sweetiebiy</td>\n",
       "    </tr>\n",
       "    <tr>\n",
       "      <th>4</th>\n",
       "      <td>2020-10-18 17:21:51+00:00</td>\n",
       "      <td>1317878571159883777</td>\n",
       "      <td>ya Allah, jodohkanlah aku dgn teman sdku yg ga...</td>\n",
       "      <td>sweetiebiy</td>\n",
       "    </tr>\n",
       "    <tr>\n",
       "      <th>...</th>\n",
       "      <td>...</td>\n",
       "      <td>...</td>\n",
       "      <td>...</td>\n",
       "      <td>...</td>\n",
       "    </tr>\n",
       "    <tr>\n",
       "      <th>4</th>\n",
       "      <td>2020-12-29 14:04:40+00:00</td>\n",
       "      <td>1343920877797167104</td>\n",
       "      <td>Pacaran gak melulu soal keuwuan ko. Tapi tenta...</td>\n",
       "      <td>Revan_Blue98</td>\n",
       "    </tr>\n",
       "    <tr>\n",
       "      <th>5</th>\n",
       "      <td>2020-12-29 13:26:32+00:00</td>\n",
       "      <td>1343911281401552897</td>\n",
       "      <td>Self reminder:\\n\\nUntuk diri aku, sebejat apap...</td>\n",
       "      <td>Revan_Blue98</td>\n",
       "    </tr>\n",
       "    <tr>\n",
       "      <th>6</th>\n",
       "      <td>2020-12-29 12:29:45+00:00</td>\n",
       "      <td>1343896990564769793</td>\n",
       "      <td>Yuk sholat isya dulu 🤗</td>\n",
       "      <td>Revan_Blue98</td>\n",
       "    </tr>\n",
       "    <tr>\n",
       "      <th>7</th>\n",
       "      <td>2020-12-29 11:45:14+00:00</td>\n",
       "      <td>1343885788690276352</td>\n",
       "      <td>Aku jutek gak sih ke mutual?\\nAtau malah SKSD 😔</td>\n",
       "      <td>Revan_Blue98</td>\n",
       "    </tr>\n",
       "    <tr>\n",
       "      <th>8</th>\n",
       "      <td>2020-12-29 11:03:52+00:00</td>\n",
       "      <td>1343875376942960642</td>\n",
       "      <td>Lihat foto cowok sixpack lewat TL auto megang ...</td>\n",
       "      <td>Revan_Blue98</td>\n",
       "    </tr>\n",
       "  </tbody>\n",
       "</table>\n",
       "<p>100 rows × 4 columns</p>\n",
       "</div>"
      ],
      "text/plain": [
       "                    Datetime              TweetID  \\\n",
       "0  2020-10-31 06:10:22+00:00  1322420631590240260   \n",
       "1  2020-10-22 09:05:58+00:00  1319203329470132227   \n",
       "2  2020-10-20 05:24:24+00:00  1318422797215887360   \n",
       "3  2020-10-19 09:16:28+00:00  1318118811803938819   \n",
       "4  2020-10-18 17:21:51+00:00  1317878571159883777   \n",
       "..                       ...                  ...   \n",
       "4  2020-12-29 14:04:40+00:00  1343920877797167104   \n",
       "5  2020-12-29 13:26:32+00:00  1343911281401552897   \n",
       "6  2020-12-29 12:29:45+00:00  1343896990564769793   \n",
       "7  2020-12-29 11:45:14+00:00  1343885788690276352   \n",
       "8  2020-12-29 11:03:52+00:00  1343875376942960642   \n",
       "\n",
       "                                                 Text      Username  \n",
       "0              biasa bgt ngchat klo lgi butuh doang 😂    sweetiebiy  \n",
       "1   bener² ya sebentarnya bude itu bisa buat nonto...    sweetiebiy  \n",
       "2              beruntunglah kalian yg bisa BAB lancar    sweetiebiy  \n",
       "3   Tertampar vokal dan suaranya mereka... Gila se...    sweetiebiy  \n",
       "4   ya Allah, jodohkanlah aku dgn teman sdku yg ga...    sweetiebiy  \n",
       "..                                                ...           ...  \n",
       "4   Pacaran gak melulu soal keuwuan ko. Tapi tenta...  Revan_Blue98  \n",
       "5   Self reminder:\\n\\nUntuk diri aku, sebejat apap...  Revan_Blue98  \n",
       "6                              Yuk sholat isya dulu 🤗  Revan_Blue98  \n",
       "7     Aku jutek gak sih ke mutual?\\nAtau malah SKSD 😔  Revan_Blue98  \n",
       "8   Lihat foto cowok sixpack lewat TL auto megang ...  Revan_Blue98  \n",
       "\n",
       "[100 rows x 4 columns]"
      ]
     },
     "execution_count": 80,
     "metadata": {},
     "output_type": "execute_result"
    }
   ],
   "source": [
    "result.info()\n",
    "result.head(100)"
   ]
  },
  {
   "cell_type": "code",
   "execution_count": 81,
   "metadata": {},
   "outputs": [],
   "source": [
    "result.to_csv('scrape_user_30.csv')"
   ]
  },
  {
   "cell_type": "code",
   "execution_count": 2,
   "metadata": {},
   "outputs": [],
   "source": [
    "user31 = []\n",
    "maxTweets = 500\n",
    "\n",
    "for i,tweet in enumerate(sntwitter.TwitterSearchScraper('from:Noveline11 since:2020-10-01 until:2020-12-30 lang:id -filter:retweets -filter:replies -filter:links').get_items()):\n",
    "    if i > maxTweets:\n",
    "        break\n",
    "    user31.append([tweet.date, tweet.id, tweet.content, tweet.username])"
   ]
  },
  {
   "cell_type": "code",
   "execution_count": 4,
   "metadata": {},
   "outputs": [
    {
     "data": {
      "text/plain": [
       "Datetime    7\n",
       "TweetID     7\n",
       "Text        7\n",
       "Username    7\n",
       "dtype: int64"
      ]
     },
     "execution_count": 4,
     "metadata": {},
     "output_type": "execute_result"
    }
   ],
   "source": [
    "df31 = pd.DataFrame(user31, columns=['Datetime', 'TweetID', 'Text', 'Username'])\n",
    "df31.count()"
   ]
  },
  {
   "cell_type": "code",
   "execution_count": 6,
   "metadata": {},
   "outputs": [],
   "source": [
    "user32 = []\n",
    "maxTweets = 500\n",
    "\n",
    "for i,tweet in enumerate(sntwitter.TwitterSearchScraper('from:auzandarmawan since:2020-10-01 until:2020-12-30 lang:id -filter:retweets -filter:replies -filter:links').get_items()):\n",
    "    if i > maxTweets:\n",
    "        break\n",
    "    user32.append([tweet.date, tweet.id, tweet.content, tweet.username])"
   ]
  },
  {
   "cell_type": "code",
   "execution_count": 7,
   "metadata": {},
   "outputs": [
    {
     "data": {
      "text/plain": [
       "Datetime    137\n",
       "TweetID     137\n",
       "Text        137\n",
       "Username    137\n",
       "dtype: int64"
      ]
     },
     "execution_count": 7,
     "metadata": {},
     "output_type": "execute_result"
    }
   ],
   "source": [
    "df32 = pd.DataFrame(user32, columns=['Datetime', 'TweetID', 'Text', 'Username'])\n",
    "df32.count()"
   ]
  },
  {
   "cell_type": "code",
   "execution_count": 9,
   "metadata": {},
   "outputs": [],
   "source": [
    "user33 = []\n",
    "maxTweets = 500\n",
    "\n",
    "for i,tweet in enumerate(sntwitter.TwitterSearchScraper('from:shafiraramdhan8 since:2020-10-01 until:2020-12-30 lang:id -filter:retweets -filter:replies -filter:links').get_items()):\n",
    "    if i > maxTweets:\n",
    "        break\n",
    "    user33.append([tweet.date, tweet.id, tweet.content, tweet.username])"
   ]
  },
  {
   "cell_type": "code",
   "execution_count": 10,
   "metadata": {},
   "outputs": [
    {
     "data": {
      "text/plain": [
       "Datetime    58\n",
       "TweetID     58\n",
       "Text        58\n",
       "Username    58\n",
       "dtype: int64"
      ]
     },
     "execution_count": 10,
     "metadata": {},
     "output_type": "execute_result"
    }
   ],
   "source": [
    "df33 = pd.DataFrame(user33, columns=['Datetime', 'TweetID', 'Text', 'Username'])\n",
    "df33.count()"
   ]
  },
  {
   "cell_type": "code",
   "execution_count": 11,
   "metadata": {},
   "outputs": [],
   "source": [
    "user34 = []\n",
    "maxTweets = 500\n",
    "\n",
    "for i,tweet in enumerate(sntwitter.TwitterSearchScraper('from:analgesikk since:2020-10-01 until:2020-12-30 lang:id -filter:retweets -filter:replies -filter:links').get_items()):\n",
    "    if i > maxTweets:\n",
    "        break\n",
    "    user34.append([tweet.date, tweet.id, tweet.content, tweet.username])"
   ]
  },
  {
   "cell_type": "code",
   "execution_count": 12,
   "metadata": {},
   "outputs": [
    {
     "data": {
      "text/plain": [
       "Datetime    37\n",
       "TweetID     37\n",
       "Text        37\n",
       "Username    37\n",
       "dtype: int64"
      ]
     },
     "execution_count": 12,
     "metadata": {},
     "output_type": "execute_result"
    }
   ],
   "source": [
    "df34 = pd.DataFrame(user34, columns=['Datetime', 'TweetID', 'Text', 'Username'])\n",
    "df34.count()"
   ]
  },
  {
   "cell_type": "code",
   "execution_count": 15,
   "metadata": {},
   "outputs": [],
   "source": [
    "user35 = []\n",
    "maxTweets = 500\n",
    "\n",
    "for i,tweet in enumerate(sntwitter.TwitterSearchScraper('from:kodenuke since:2020-10-01 until:2020-12-30 lang:id -filter:retweets -filter:replies -filter:links').get_items()):\n",
    "    if i > maxTweets:\n",
    "        break\n",
    "    user35.append([tweet.date, tweet.id, tweet.content, tweet.username])"
   ]
  },
  {
   "cell_type": "code",
   "execution_count": 16,
   "metadata": {},
   "outputs": [
    {
     "data": {
      "text/plain": [
       "Datetime    31\n",
       "TweetID     31\n",
       "Text        31\n",
       "Username    31\n",
       "dtype: int64"
      ]
     },
     "execution_count": 16,
     "metadata": {},
     "output_type": "execute_result"
    }
   ],
   "source": [
    "df35 = pd.DataFrame(user35, columns=['Datetime', 'TweetID', 'Text', 'Username'])\n",
    "df35.count()"
   ]
  },
  {
   "cell_type": "code",
   "execution_count": 17,
   "metadata": {},
   "outputs": [],
   "source": [
    "user36 = []\n",
    "maxTweets = 500\n",
    "\n",
    "for i,tweet in enumerate(sntwitter.TwitterSearchScraper('from:urfavvbby since:2020-10-01 until:2020-12-30 lang:id -filter:retweets -filter:replies -filter:links').get_items()):\n",
    "    if i > maxTweets:\n",
    "        break\n",
    "    user36.append([tweet.date, tweet.id, tweet.content, tweet.username])"
   ]
  },
  {
   "cell_type": "code",
   "execution_count": 18,
   "metadata": {},
   "outputs": [
    {
     "data": {
      "text/plain": [
       "Datetime    205\n",
       "TweetID     205\n",
       "Text        205\n",
       "Username    205\n",
       "dtype: int64"
      ]
     },
     "execution_count": 18,
     "metadata": {},
     "output_type": "execute_result"
    }
   ],
   "source": [
    "df36 = pd.DataFrame(user36, columns=['Datetime', 'TweetID', 'Text', 'Username'])\n",
    "df36.count()"
   ]
  },
  {
   "cell_type": "code",
   "execution_count": 19,
   "metadata": {},
   "outputs": [],
   "source": [
    "user37 = []\n",
    "maxTweets = 500\n",
    "\n",
    "for i,tweet in enumerate(sntwitter.TwitterSearchScraper('from:dirafydlav since:2020-10-01 until:2020-12-30 lang:id -filter:retweets -filter:replies -filter:links').get_items()):\n",
    "    if i > maxTweets:\n",
    "        break\n",
    "    user37.append([tweet.date, tweet.id, tweet.content, tweet.username])"
   ]
  },
  {
   "cell_type": "code",
   "execution_count": 20,
   "metadata": {},
   "outputs": [
    {
     "data": {
      "text/plain": [
       "Datetime    95\n",
       "TweetID     95\n",
       "Text        95\n",
       "Username    95\n",
       "dtype: int64"
      ]
     },
     "execution_count": 20,
     "metadata": {},
     "output_type": "execute_result"
    }
   ],
   "source": [
    "df37 = pd.DataFrame(user37, columns=['Datetime', 'TweetID', 'Text', 'Username'])\n",
    "df37.count()"
   ]
  },
  {
   "cell_type": "code",
   "execution_count": 21,
   "metadata": {},
   "outputs": [],
   "source": [
    "user38 = []\n",
    "maxTweets = 500\n",
    "\n",
    "for i,tweet in enumerate(sntwitter.TwitterSearchScraper('from:bertaseptya since:2020-10-01 until:2020-12-30 lang:id -filter:retweets -filter:replies -filter:links').get_items()):\n",
    "    if i > maxTweets:\n",
    "        break\n",
    "    user38.append([tweet.date, tweet.id, tweet.content, tweet.username])"
   ]
  },
  {
   "cell_type": "code",
   "execution_count": 22,
   "metadata": {},
   "outputs": [
    {
     "data": {
      "text/plain": [
       "Datetime    26\n",
       "TweetID     26\n",
       "Text        26\n",
       "Username    26\n",
       "dtype: int64"
      ]
     },
     "execution_count": 22,
     "metadata": {},
     "output_type": "execute_result"
    }
   ],
   "source": [
    "df38 = pd.DataFrame(user38, columns=['Datetime', 'TweetID', 'Text', 'Username'])\n",
    "df38.count()"
   ]
  },
  {
   "cell_type": "code",
   "execution_count": 23,
   "metadata": {},
   "outputs": [],
   "source": [
    "user39 = []\n",
    "maxTweets = 500\n",
    "\n",
    "for i,tweet in enumerate(sntwitter.TwitterSearchScraper('from:hirullll_ since:2020-10-01 until:2020-12-30 lang:id -filter:retweets -filter:replies -filter:links').get_items()):\n",
    "    if i > maxTweets:\n",
    "        break\n",
    "    user39.append([tweet.date, tweet.id, tweet.content, tweet.username])"
   ]
  },
  {
   "cell_type": "code",
   "execution_count": 24,
   "metadata": {},
   "outputs": [
    {
     "data": {
      "text/plain": [
       "Datetime    33\n",
       "TweetID     33\n",
       "Text        33\n",
       "Username    33\n",
       "dtype: int64"
      ]
     },
     "execution_count": 24,
     "metadata": {},
     "output_type": "execute_result"
    }
   ],
   "source": [
    "df39 = pd.DataFrame(user39, columns=['Datetime', 'TweetID', 'Text', 'Username'])\n",
    "df39.count()"
   ]
  },
  {
   "cell_type": "code",
   "execution_count": 25,
   "metadata": {},
   "outputs": [],
   "source": [
    "user40 = []\n",
    "maxTweets = 500\n",
    "\n",
    "for i,tweet in enumerate(sntwitter.TwitterSearchScraper('from:93YGO9 since:2020-10-01 until:2020-12-30 lang:id -filter:retweets -filter:replies -filter:links').get_items()):\n",
    "    if i > maxTweets:\n",
    "        break\n",
    "    user40.append([tweet.date, tweet.id, tweet.content, tweet.username])"
   ]
  },
  {
   "cell_type": "code",
   "execution_count": 26,
   "metadata": {},
   "outputs": [
    {
     "data": {
      "text/plain": [
       "Datetime    501\n",
       "TweetID     501\n",
       "Text        501\n",
       "Username    501\n",
       "dtype: int64"
      ]
     },
     "execution_count": 26,
     "metadata": {},
     "output_type": "execute_result"
    }
   ],
   "source": [
    "df40 = pd.DataFrame(user40, columns=['Datetime', 'TweetID', 'Text', 'Username'])\n",
    "df40.count()"
   ]
  },
  {
   "cell_type": "code",
   "execution_count": 28,
   "metadata": {},
   "outputs": [],
   "source": [
    "user41 = []\n",
    "maxTweets = 500\n",
    "\n",
    "for i,tweet in enumerate(sntwitter.TwitterSearchScraper('from:7isBangtan since:2020-10-01 until:2020-12-30 lang:id -filter:retweets -filter:replies -filter:links').get_items()):\n",
    "    if i > maxTweets:\n",
    "        break\n",
    "    user41.append([tweet.date, tweet.id, tweet.content, tweet.username])"
   ]
  },
  {
   "cell_type": "code",
   "execution_count": 29,
   "metadata": {},
   "outputs": [
    {
     "data": {
      "text/plain": [
       "Datetime    54\n",
       "TweetID     54\n",
       "Text        54\n",
       "Username    54\n",
       "dtype: int64"
      ]
     },
     "execution_count": 29,
     "metadata": {},
     "output_type": "execute_result"
    }
   ],
   "source": [
    "df41 = pd.DataFrame(user41, columns=['Datetime', 'TweetID', 'Text', 'Username'])\n",
    "df41.count()"
   ]
  },
  {
   "cell_type": "code",
   "execution_count": 30,
   "metadata": {},
   "outputs": [],
   "source": [
    "user42 = []\n",
    "maxTweets = 500\n",
    "\n",
    "for i,tweet in enumerate(sntwitter.TwitterSearchScraper('from:willgetrich since:2020-10-01 until:2020-12-30 lang:id -filter:retweets -filter:replies -filter:links').get_items()):\n",
    "    if i > maxTweets:\n",
    "        break\n",
    "    user42.append([tweet.date, tweet.id, tweet.content, tweet.username])"
   ]
  },
  {
   "cell_type": "code",
   "execution_count": 31,
   "metadata": {},
   "outputs": [
    {
     "data": {
      "text/plain": [
       "Datetime    252\n",
       "TweetID     252\n",
       "Text        252\n",
       "Username    252\n",
       "dtype: int64"
      ]
     },
     "execution_count": 31,
     "metadata": {},
     "output_type": "execute_result"
    }
   ],
   "source": [
    "df42 = pd.DataFrame(user42, columns=['Datetime', 'TweetID', 'Text', 'Username'])\n",
    "df42.count()"
   ]
  },
  {
   "cell_type": "code",
   "execution_count": 34,
   "metadata": {},
   "outputs": [],
   "source": [
    "user43 = []\n",
    "maxTweets = 500\n",
    "\n",
    "for i,tweet in enumerate(sntwitter.TwitterSearchScraper('from:flxffykateha since:2020-10-01 until:2020-12-30 lang:id -filter:retweets -filter:replies -filter:links').get_items()):\n",
    "    if i > maxTweets:\n",
    "        break\n",
    "    user43.append([tweet.date, tweet.id, tweet.content, tweet.username])"
   ]
  },
  {
   "cell_type": "code",
   "execution_count": 35,
   "metadata": {},
   "outputs": [
    {
     "data": {
      "text/plain": [
       "Datetime    8\n",
       "TweetID     8\n",
       "Text        8\n",
       "Username    8\n",
       "dtype: int64"
      ]
     },
     "execution_count": 35,
     "metadata": {},
     "output_type": "execute_result"
    }
   ],
   "source": [
    "df43 = pd.DataFrame(user43, columns=['Datetime', 'TweetID', 'Text', 'Username'])\n",
    "df43.count()"
   ]
  },
  {
   "cell_type": "code",
   "execution_count": 32,
   "metadata": {},
   "outputs": [],
   "source": [
    "user44 = []\n",
    "maxTweets = 500\n",
    "\n",
    "for i,tweet in enumerate(sntwitter.TwitterSearchScraper('from:Azzfadella since:2020-10-01 until:2020-12-30 lang:id -filter:retweets -filter:replies -filter:links').get_items()):\n",
    "    if i > maxTweets:\n",
    "        break\n",
    "    user44.append([tweet.date, tweet.id, tweet.content, tweet.username])"
   ]
  },
  {
   "cell_type": "code",
   "execution_count": 33,
   "metadata": {},
   "outputs": [
    {
     "data": {
      "text/plain": [
       "Datetime    49\n",
       "TweetID     49\n",
       "Text        49\n",
       "Username    49\n",
       "dtype: int64"
      ]
     },
     "execution_count": 33,
     "metadata": {},
     "output_type": "execute_result"
    }
   ],
   "source": [
    "df44 = pd.DataFrame(user44, columns=['Datetime', 'TweetID', 'Text', 'Username'])\n",
    "df44.count()"
   ]
  },
  {
   "cell_type": "code",
   "execution_count": 36,
   "metadata": {},
   "outputs": [],
   "source": [
    "user45 = []\n",
    "maxTweets = 500\n",
    "\n",
    "for i,tweet in enumerate(sntwitter.TwitterSearchScraper('from:mrjeonjk97 since:2020-10-01 until:2020-12-30 lang:id -filter:retweets -filter:replies -filter:links').get_items()):\n",
    "    if i > maxTweets:\n",
    "        break\n",
    "    user45.append([tweet.date, tweet.id, tweet.content, tweet.username])"
   ]
  },
  {
   "cell_type": "code",
   "execution_count": 37,
   "metadata": {},
   "outputs": [
    {
     "data": {
      "text/plain": [
       "Datetime    408\n",
       "TweetID     408\n",
       "Text        408\n",
       "Username    408\n",
       "dtype: int64"
      ]
     },
     "execution_count": 37,
     "metadata": {},
     "output_type": "execute_result"
    }
   ],
   "source": [
    "df45 = pd.DataFrame(user45, columns=['Datetime', 'TweetID', 'Text', 'Username'])\n",
    "df45.count()"
   ]
  },
  {
   "cell_type": "code",
   "execution_count": 38,
   "metadata": {},
   "outputs": [],
   "source": [
    "user46 = []\n",
    "maxTweets = 500\n",
    "\n",
    "for i,tweet in enumerate(sntwitter.TwitterSearchScraper('from:Bangjamal_ since:2020-10-01 until:2020-12-30 lang:id -filter:retweets -filter:replies -filter:links').get_items()):\n",
    "    if i > maxTweets:\n",
    "        break\n",
    "    user46.append([tweet.date, tweet.id, tweet.content, tweet.username])"
   ]
  },
  {
   "cell_type": "code",
   "execution_count": 39,
   "metadata": {},
   "outputs": [
    {
     "data": {
      "text/plain": [
       "Datetime    112\n",
       "TweetID     112\n",
       "Text        112\n",
       "Username    112\n",
       "dtype: int64"
      ]
     },
     "execution_count": 39,
     "metadata": {},
     "output_type": "execute_result"
    }
   ],
   "source": [
    "df46 = pd.DataFrame(user46, columns=['Datetime', 'TweetID', 'Text', 'Username'])\n",
    "df46.count()"
   ]
  },
  {
   "cell_type": "code",
   "execution_count": 42,
   "metadata": {},
   "outputs": [],
   "source": [
    "user47 = []\n",
    "maxTweets = 500\n",
    "\n",
    "for i,tweet in enumerate(sntwitter.TwitterSearchScraper('from:lovingmarklee99 since:2020-10-01 until:2020-12-30 lang:id -filter:retweets -filter:replies -filter:links').get_items()):\n",
    "    if i > maxTweets:\n",
    "        break\n",
    "    user47.append([tweet.date, tweet.id, tweet.content, tweet.username])"
   ]
  },
  {
   "cell_type": "code",
   "execution_count": 43,
   "metadata": {},
   "outputs": [
    {
     "data": {
      "text/plain": [
       "Datetime    103\n",
       "TweetID     103\n",
       "Text        103\n",
       "Username    103\n",
       "dtype: int64"
      ]
     },
     "execution_count": 43,
     "metadata": {},
     "output_type": "execute_result"
    }
   ],
   "source": [
    "df47 = pd.DataFrame(user47, columns=['Datetime', 'TweetID', 'Text', 'Username'])\n",
    "df47.count()"
   ]
  },
  {
   "cell_type": "code",
   "execution_count": 44,
   "metadata": {},
   "outputs": [],
   "source": [
    "user48 = []\n",
    "maxTweets = 500\n",
    "\n",
    "for i,tweet in enumerate(sntwitter.TwitterSearchScraper('from:bkwrld since:2020-10-01 until:2020-12-30 lang:id -filter:retweets -filter:replies -filter:links').get_items()):\n",
    "    if i > maxTweets:\n",
    "        break\n",
    "    user48.append([tweet.date, tweet.id, tweet.content, tweet.username])"
   ]
  },
  {
   "cell_type": "code",
   "execution_count": 45,
   "metadata": {},
   "outputs": [
    {
     "data": {
      "text/plain": [
       "Datetime    81\n",
       "TweetID     81\n",
       "Text        81\n",
       "Username    81\n",
       "dtype: int64"
      ]
     },
     "execution_count": 45,
     "metadata": {},
     "output_type": "execute_result"
    }
   ],
   "source": [
    "df48 = pd.DataFrame(user48, columns=['Datetime', 'TweetID', 'Text', 'Username'])\n",
    "df48.count()"
   ]
  },
  {
   "cell_type": "code",
   "execution_count": 46,
   "metadata": {},
   "outputs": [],
   "source": [
    "user49 = []\n",
    "maxTweets = 500\n",
    "\n",
    "for i,tweet in enumerate(sntwitter.TwitterSearchScraper('from:DevidenBing since:2020-10-01 until:2020-12-30 lang:id -filter:retweets -filter:replies -filter:links').get_items()):\n",
    "    if i > maxTweets:\n",
    "        break\n",
    "    user49.append([tweet.date, tweet.id, tweet.content, tweet.username])"
   ]
  },
  {
   "cell_type": "code",
   "execution_count": 47,
   "metadata": {},
   "outputs": [
    {
     "data": {
      "text/plain": [
       "Datetime    7\n",
       "TweetID     7\n",
       "Text        7\n",
       "Username    7\n",
       "dtype: int64"
      ]
     },
     "execution_count": 47,
     "metadata": {},
     "output_type": "execute_result"
    }
   ],
   "source": [
    "df49 = pd.DataFrame(user49, columns=['Datetime', 'TweetID', 'Text', 'Username'])\n",
    "df49.count()"
   ]
  },
  {
   "cell_type": "code",
   "execution_count": 48,
   "metadata": {},
   "outputs": [],
   "source": [
    "user50 = []\n",
    "maxTweets = 500\n",
    "\n",
    "for i,tweet in enumerate(sntwitter.TwitterSearchScraper('from:1314NJM since:2020-10-01 until:2020-12-30 lang:id -filter:retweets -filter:replies -filter:links').get_items()):\n",
    "    if i > maxTweets:\n",
    "        break\n",
    "    user50.append([tweet.date, tweet.id, tweet.content, tweet.username])"
   ]
  },
  {
   "cell_type": "code",
   "execution_count": 49,
   "metadata": {},
   "outputs": [
    {
     "data": {
      "text/plain": [
       "Datetime    124\n",
       "TweetID     124\n",
       "Text        124\n",
       "Username    124\n",
       "dtype: int64"
      ]
     },
     "execution_count": 49,
     "metadata": {},
     "output_type": "execute_result"
    }
   ],
   "source": [
    "df50 = pd.DataFrame(user50, columns=['Datetime', 'TweetID', 'Text', 'Username'])\n",
    "df50.count()"
   ]
  },
  {
   "cell_type": "code",
   "execution_count": 62,
   "metadata": {},
   "outputs": [],
   "source": [
    "import csv"
   ]
  },
  {
   "cell_type": "code",
   "execution_count": 63,
   "metadata": {},
   "outputs": [],
   "source": [
    "scrapeuser30 = pd.read_csv('scrape_user_30.csv')"
   ]
  },
  {
   "cell_type": "code",
   "execution_count": 67,
   "metadata": {},
   "outputs": [],
   "source": [
    "df_user30 = scrapeuser30.drop(scrapeuser30.columns[0], axis = 1) "
   ]
  },
  {
   "cell_type": "code",
   "execution_count": 68,
   "metadata": {},
   "outputs": [],
   "source": [
    "frames = [df_user30, df31, df32, df33, df34, df35, df36, df37, df38, df39, df40,\n",
    "         df41, df42, df43, df44, df45, df46, df47, df48, df49, df50]\n",
    "result = pd.concat(frames)"
   ]
  },
  {
   "cell_type": "code",
   "execution_count": 69,
   "metadata": {},
   "outputs": [
    {
     "name": "stdout",
     "output_type": "stream",
     "text": [
      "<class 'pandas.core.frame.DataFrame'>\n",
      "Int64Index: 6866 entries, 0 to 123\n",
      "Data columns (total 4 columns):\n",
      " #   Column    Non-Null Count  Dtype \n",
      "---  ------    --------------  ----- \n",
      " 0   Datetime  6866 non-null   object\n",
      " 1   TweetID   6866 non-null   int64 \n",
      " 2   Text      6866 non-null   object\n",
      " 3   Username  6866 non-null   object\n",
      "dtypes: int64(1), object(3)\n",
      "memory usage: 268.2+ KB\n"
     ]
    }
   ],
   "source": [
    "result.info()"
   ]
  },
  {
   "cell_type": "code",
   "execution_count": 70,
   "metadata": {},
   "outputs": [],
   "source": [
    "result.to_csv('scrape_user_50.csv')"
   ]
  },
  {
   "cell_type": "code",
   "execution_count": 2,
   "metadata": {},
   "outputs": [],
   "source": [
    "user51 = []\n",
    "maxTweets = 500\n",
    "\n",
    "for i,tweet in enumerate(sntwitter.TwitterSearchScraper('from:derestaar1 since:2020-10-01 until:2020-12-30 lang:id -filter:retweets -filter:replies -filter:links').get_items()):\n",
    "    if i > maxTweets:\n",
    "        break\n",
    "    user51.append([tweet.date, tweet.id, tweet.content, tweet.username])"
   ]
  },
  {
   "cell_type": "code",
   "execution_count": 4,
   "metadata": {},
   "outputs": [
    {
     "data": {
      "text/plain": [
       "Datetime    12\n",
       "TweetID     12\n",
       "Text        12\n",
       "Username    12\n",
       "dtype: int64"
      ]
     },
     "execution_count": 4,
     "metadata": {},
     "output_type": "execute_result"
    }
   ],
   "source": [
    "df51 = pd.DataFrame(user51, columns=['Datetime', 'TweetID', 'Text', 'Username'])\n",
    "df51.count()"
   ]
  },
  {
   "cell_type": "code",
   "execution_count": 10,
   "metadata": {},
   "outputs": [],
   "source": [
    "user52 = []\n",
    "maxTweets = 500\n",
    "\n",
    "for i,tweet in enumerate(sntwitter.TwitterSearchScraper('from:mikurooba since:2020-10-01 until:2020-12-30 lang:id -filter:retweets -filter:replies -filter:links').get_items()):\n",
    "    if i > maxTweets:\n",
    "        break\n",
    "    user52.append([tweet.date, tweet.id, tweet.content, tweet.username])"
   ]
  },
  {
   "cell_type": "code",
   "execution_count": 12,
   "metadata": {},
   "outputs": [
    {
     "data": {
      "text/plain": [
       "Datetime    501\n",
       "TweetID     501\n",
       "Text        501\n",
       "Username    501\n",
       "dtype: int64"
      ]
     },
     "execution_count": 12,
     "metadata": {},
     "output_type": "execute_result"
    }
   ],
   "source": [
    "df52 = pd.DataFrame(user52, columns=['Datetime', 'TweetID', 'Text', 'Username'])\n",
    "df52.count()"
   ]
  },
  {
   "cell_type": "code",
   "execution_count": 13,
   "metadata": {},
   "outputs": [],
   "source": [
    "user53 = []\n",
    "maxTweets = 500\n",
    "\n",
    "for i,tweet in enumerate(sntwitter.TwitterSearchScraper('from:itsabeliano since:2020-10-01 until:2020-12-30 lang:id -filter:retweets -filter:replies -filter:links').get_items()):\n",
    "    if i > maxTweets:\n",
    "        break\n",
    "    user53.append([tweet.date, tweet.id, tweet.content, tweet.username])"
   ]
  },
  {
   "cell_type": "code",
   "execution_count": 14,
   "metadata": {},
   "outputs": [
    {
     "data": {
      "text/plain": [
       "Datetime    19\n",
       "TweetID     19\n",
       "Text        19\n",
       "Username    19\n",
       "dtype: int64"
      ]
     },
     "execution_count": 14,
     "metadata": {},
     "output_type": "execute_result"
    }
   ],
   "source": [
    "df53 = pd.DataFrame(user53, columns=['Datetime', 'TweetID', 'Text', 'Username'])\n",
    "df53.count()"
   ]
  },
  {
   "cell_type": "code",
   "execution_count": 15,
   "metadata": {},
   "outputs": [],
   "source": [
    "user54 = []\n",
    "maxTweets = 500\n",
    "\n",
    "for i,tweet in enumerate(sntwitter.TwitterSearchScraper('from:luckykiddos1 since:2020-10-01 until:2020-12-30 lang:id -filter:retweets -filter:replies -filter:links').get_items()):\n",
    "    if i > maxTweets:\n",
    "        break\n",
    "    user54.append([tweet.date, tweet.id, tweet.content, tweet.username])"
   ]
  },
  {
   "cell_type": "code",
   "execution_count": 16,
   "metadata": {},
   "outputs": [
    {
     "data": {
      "text/plain": [
       "Datetime    81\n",
       "TweetID     81\n",
       "Text        81\n",
       "Username    81\n",
       "dtype: int64"
      ]
     },
     "execution_count": 16,
     "metadata": {},
     "output_type": "execute_result"
    }
   ],
   "source": [
    "df54 = pd.DataFrame(user54, columns=['Datetime', 'TweetID', 'Text', 'Username'])\n",
    "df54.count()"
   ]
  },
  {
   "cell_type": "code",
   "execution_count": 17,
   "metadata": {},
   "outputs": [],
   "source": [
    "user55 = []\n",
    "maxTweets = 500\n",
    "\n",
    "for i,tweet in enumerate(sntwitter.TwitterSearchScraper('from:tarrmenyedihkan since:2020-10-01 until:2020-12-30 lang:id -filter:retweets -filter:replies -filter:links').get_items()):\n",
    "    if i > maxTweets:\n",
    "        break\n",
    "    user55.append([tweet.date, tweet.id, tweet.content, tweet.username])"
   ]
  },
  {
   "cell_type": "code",
   "execution_count": 18,
   "metadata": {},
   "outputs": [
    {
     "data": {
      "text/plain": [
       "Datetime    110\n",
       "TweetID     110\n",
       "Text        110\n",
       "Username    110\n",
       "dtype: int64"
      ]
     },
     "execution_count": 18,
     "metadata": {},
     "output_type": "execute_result"
    }
   ],
   "source": [
    "df55 = pd.DataFrame(user55, columns=['Datetime', 'TweetID', 'Text', 'Username'])\n",
    "df55.count()"
   ]
  },
  {
   "cell_type": "code",
   "execution_count": 19,
   "metadata": {},
   "outputs": [],
   "source": [
    "user56 = []\n",
    "maxTweets = 500\n",
    "\n",
    "for i,tweet in enumerate(sntwitter.TwitterSearchScraper('from:minohyuck since:2020-10-01 until:2020-12-30 lang:id -filter:retweets -filter:replies -filter:links').get_items()):\n",
    "    if i > maxTweets:\n",
    "        break\n",
    "    user56.append([tweet.date, tweet.id, tweet.content, tweet.username])"
   ]
  },
  {
   "cell_type": "code",
   "execution_count": 20,
   "metadata": {},
   "outputs": [
    {
     "data": {
      "text/plain": [
       "Datetime    120\n",
       "TweetID     120\n",
       "Text        120\n",
       "Username    120\n",
       "dtype: int64"
      ]
     },
     "execution_count": 20,
     "metadata": {},
     "output_type": "execute_result"
    }
   ],
   "source": [
    "df56 = pd.DataFrame(user56, columns=['Datetime', 'TweetID', 'Text', 'Username'])\n",
    "df56.count()"
   ]
  },
  {
   "cell_type": "code",
   "execution_count": 21,
   "metadata": {},
   "outputs": [],
   "source": [
    "user57 = []\n",
    "maxTweets = 500\n",
    "\n",
    "for i,tweet in enumerate(sntwitter.TwitterSearchScraper('from:agungrm16 since:2020-10-01 until:2020-12-30 lang:id -filter:retweets -filter:replies -filter:links').get_items()):\n",
    "    if i > maxTweets:\n",
    "        break\n",
    "    user57.append([tweet.date, tweet.id, tweet.content, tweet.username])"
   ]
  },
  {
   "cell_type": "code",
   "execution_count": 55,
   "metadata": {},
   "outputs": [
    {
     "data": {
      "text/plain": [
       "Datetime    4\n",
       "TweetID     4\n",
       "Text        4\n",
       "Username    4\n",
       "dtype: int64"
      ]
     },
     "execution_count": 55,
     "metadata": {},
     "output_type": "execute_result"
    }
   ],
   "source": [
    "df57 = pd.DataFrame(user57, columns=['Datetime', 'TweetID', 'Text', 'Username'])\n",
    "df57.count()"
   ]
  },
  {
   "cell_type": "code",
   "execution_count": 23,
   "metadata": {},
   "outputs": [],
   "source": [
    "user58 = []\n",
    "maxTweets = 500\n",
    "\n",
    "for i,tweet in enumerate(sntwitter.TwitterSearchScraper('from:nasigorenggg__ since:2020-10-01 until:2020-12-30 lang:id -filter:retweets -filter:replies -filter:links').get_items()):\n",
    "    if i > maxTweets:\n",
    "        break\n",
    "    user58.append([tweet.date, tweet.id, tweet.content, tweet.username])"
   ]
  },
  {
   "cell_type": "code",
   "execution_count": 24,
   "metadata": {},
   "outputs": [
    {
     "data": {
      "text/plain": [
       "Datetime    36\n",
       "TweetID     36\n",
       "Text        36\n",
       "Username    36\n",
       "dtype: int64"
      ]
     },
     "execution_count": 24,
     "metadata": {},
     "output_type": "execute_result"
    }
   ],
   "source": [
    "df58 = pd.DataFrame(user58, columns=['Datetime', 'TweetID', 'Text', 'Username'])\n",
    "df58.count()"
   ]
  },
  {
   "cell_type": "code",
   "execution_count": 25,
   "metadata": {},
   "outputs": [],
   "source": [
    "user59 = []\n",
    "maxTweets = 500\n",
    "\n",
    "for i,tweet in enumerate(sntwitter.TwitterSearchScraper('from:halluismine since:2020-10-01 until:2020-12-30 lang:id -filter:retweets -filter:replies -filter:links').get_items()):\n",
    "    if i > maxTweets:\n",
    "        break\n",
    "    user59.append([tweet.date, tweet.id, tweet.content, tweet.username])"
   ]
  },
  {
   "cell_type": "code",
   "execution_count": 26,
   "metadata": {},
   "outputs": [
    {
     "data": {
      "text/plain": [
       "Datetime    369\n",
       "TweetID     369\n",
       "Text        369\n",
       "Username    369\n",
       "dtype: int64"
      ]
     },
     "execution_count": 26,
     "metadata": {},
     "output_type": "execute_result"
    }
   ],
   "source": [
    "df59 = pd.DataFrame(user59, columns=['Datetime', 'TweetID', 'Text', 'Username'])\n",
    "df59.count()"
   ]
  },
  {
   "cell_type": "code",
   "execution_count": 31,
   "metadata": {},
   "outputs": [],
   "source": [
    "user60 = []\n",
    "maxTweets = 500\n",
    "\n",
    "for i,tweet in enumerate(sntwitter.TwitterSearchScraper('from:sobatgabutt since:2020-10-01 until:2020-12-30 lang:id -filter:retweets -filter:replies -filter:links').get_items()):\n",
    "    if i > maxTweets:\n",
    "        break\n",
    "    user60.append([tweet.date, tweet.id, tweet.content, tweet.username])"
   ]
  },
  {
   "cell_type": "code",
   "execution_count": 32,
   "metadata": {},
   "outputs": [
    {
     "data": {
      "text/plain": [
       "Datetime    25\n",
       "TweetID     25\n",
       "Text        25\n",
       "Username    25\n",
       "dtype: int64"
      ]
     },
     "execution_count": 32,
     "metadata": {},
     "output_type": "execute_result"
    }
   ],
   "source": [
    "df60 = pd.DataFrame(user60, columns=['Datetime', 'TweetID', 'Text', 'Username'])\n",
    "df60.count()"
   ]
  },
  {
   "cell_type": "code",
   "execution_count": 29,
   "metadata": {},
   "outputs": [],
   "source": [
    "user61 = []\n",
    "maxTweets = 500\n",
    "\n",
    "for i,tweet in enumerate(sntwitter.TwitterSearchScraper('from:puyopiyu since:2020-10-01 until:2020-12-30 lang:id -filter:retweets -filter:replies -filter:links').get_items()):\n",
    "    if i > maxTweets:\n",
    "        break\n",
    "    user61.append([tweet.date, tweet.id, tweet.content, tweet.username])"
   ]
  },
  {
   "cell_type": "code",
   "execution_count": 30,
   "metadata": {},
   "outputs": [
    {
     "data": {
      "text/plain": [
       "Datetime    283\n",
       "TweetID     283\n",
       "Text        283\n",
       "Username    283\n",
       "dtype: int64"
      ]
     },
     "execution_count": 30,
     "metadata": {},
     "output_type": "execute_result"
    }
   ],
   "source": [
    "df61 = pd.DataFrame(user61, columns=['Datetime', 'TweetID', 'Text', 'Username'])\n",
    "df61.count()"
   ]
  },
  {
   "cell_type": "code",
   "execution_count": 33,
   "metadata": {},
   "outputs": [],
   "source": [
    "user62 = []\n",
    "maxTweets = 500\n",
    "\n",
    "for i,tweet in enumerate(sntwitter.TwitterSearchScraper('from:urobsessiongrl since:2020-10-01 until:2020-12-30 lang:id -filter:retweets -filter:replies -filter:links').get_items()):\n",
    "    if i > maxTweets:\n",
    "        break\n",
    "    user62.append([tweet.date, tweet.id, tweet.content, tweet.username])"
   ]
  },
  {
   "cell_type": "code",
   "execution_count": 34,
   "metadata": {},
   "outputs": [
    {
     "data": {
      "text/plain": [
       "Datetime    28\n",
       "TweetID     28\n",
       "Text        28\n",
       "Username    28\n",
       "dtype: int64"
      ]
     },
     "execution_count": 34,
     "metadata": {},
     "output_type": "execute_result"
    }
   ],
   "source": [
    "df62 = pd.DataFrame(user62, columns=['Datetime', 'TweetID', 'Text', 'Username'])\n",
    "df62.count()"
   ]
  },
  {
   "cell_type": "code",
   "execution_count": 35,
   "metadata": {},
   "outputs": [],
   "source": [
    "user63 = []\n",
    "maxTweets = 500\n",
    "\n",
    "for i,tweet in enumerate(sntwitter.TwitterSearchScraper('from:hoaxisbadd since:2020-10-01 until:2020-12-30 lang:id -filter:retweets -filter:replies -filter:links').get_items()):\n",
    "    if i > maxTweets:\n",
    "        break\n",
    "    user63.append([tweet.date, tweet.id, tweet.content, tweet.username])"
   ]
  },
  {
   "cell_type": "code",
   "execution_count": 36,
   "metadata": {},
   "outputs": [
    {
     "data": {
      "text/plain": [
       "Datetime    79\n",
       "TweetID     79\n",
       "Text        79\n",
       "Username    79\n",
       "dtype: int64"
      ]
     },
     "execution_count": 36,
     "metadata": {},
     "output_type": "execute_result"
    }
   ],
   "source": [
    "df63 = pd.DataFrame(user63, columns=['Datetime', 'TweetID', 'Text', 'Username'])\n",
    "df63.count()"
   ]
  },
  {
   "cell_type": "code",
   "execution_count": 37,
   "metadata": {},
   "outputs": [],
   "source": [
    "user64 = []\n",
    "maxTweets = 500\n",
    "\n",
    "for i,tweet in enumerate(sntwitter.TwitterSearchScraper('from:ichitanmatcha since:2020-10-01 until:2020-12-30 lang:id -filter:retweets -filter:replies -filter:links').get_items()):\n",
    "    if i > maxTweets:\n",
    "        break\n",
    "    user64.append([tweet.date, tweet.id, tweet.content, tweet.username])"
   ]
  },
  {
   "cell_type": "code",
   "execution_count": 38,
   "metadata": {},
   "outputs": [
    {
     "data": {
      "text/plain": [
       "Datetime    272\n",
       "TweetID     272\n",
       "Text        272\n",
       "Username    272\n",
       "dtype: int64"
      ]
     },
     "execution_count": 38,
     "metadata": {},
     "output_type": "execute_result"
    }
   ],
   "source": [
    "df64 = pd.DataFrame(user64, columns=['Datetime', 'TweetID', 'Text', 'Username'])\n",
    "df64.count()"
   ]
  },
  {
   "cell_type": "code",
   "execution_count": 39,
   "metadata": {},
   "outputs": [],
   "source": [
    "user65 = []\n",
    "maxTweets = 500\n",
    "\n",
    "for i,tweet in enumerate(sntwitter.TwitterSearchScraper('from:AciMocca since:2020-10-01 until:2020-12-30 lang:id -filter:retweets -filter:replies -filter:links').get_items()):\n",
    "    if i > maxTweets:\n",
    "        break\n",
    "    user65.append([tweet.date, tweet.id, tweet.content, tweet.username])"
   ]
  },
  {
   "cell_type": "code",
   "execution_count": 40,
   "metadata": {},
   "outputs": [
    {
     "data": {
      "text/plain": [
       "Datetime    43\n",
       "TweetID     43\n",
       "Text        43\n",
       "Username    43\n",
       "dtype: int64"
      ]
     },
     "execution_count": 40,
     "metadata": {},
     "output_type": "execute_result"
    }
   ],
   "source": [
    "df65 = pd.DataFrame(user65, columns=['Datetime', 'TweetID', 'Text', 'Username'])\n",
    "df65.count()"
   ]
  },
  {
   "cell_type": "code",
   "execution_count": 41,
   "metadata": {},
   "outputs": [],
   "source": [
    "user66 = []\n",
    "maxTweets = 500\n",
    "\n",
    "for i,tweet in enumerate(sntwitter.TwitterSearchScraper('from:8anaknyasar since:2020-10-01 until:2020-12-30 lang:id -filter:retweets -filter:replies -filter:links').get_items()):\n",
    "    if i > maxTweets:\n",
    "        break\n",
    "    user66.append([tweet.date, tweet.id, tweet.content, tweet.username])"
   ]
  },
  {
   "cell_type": "code",
   "execution_count": 42,
   "metadata": {},
   "outputs": [
    {
     "data": {
      "text/plain": [
       "Datetime    501\n",
       "TweetID     501\n",
       "Text        501\n",
       "Username    501\n",
       "dtype: int64"
      ]
     },
     "execution_count": 42,
     "metadata": {},
     "output_type": "execute_result"
    }
   ],
   "source": [
    "df66 = pd.DataFrame(user66, columns=['Datetime', 'TweetID', 'Text', 'Username'])\n",
    "df66.count()"
   ]
  },
  {
   "cell_type": "code",
   "execution_count": 43,
   "metadata": {},
   "outputs": [],
   "source": [
    "user67 = []\n",
    "maxTweets = 500\n",
    "\n",
    "for i,tweet in enumerate(sntwitter.TwitterSearchScraper('from:vania_yohandevi since:2020-10-01 until:2020-12-30 lang:id -filter:retweets -filter:replies -filter:links').get_items()):\n",
    "    if i > maxTweets:\n",
    "        break\n",
    "    user67.append([tweet.date, tweet.id, tweet.content, tweet.username])"
   ]
  },
  {
   "cell_type": "code",
   "execution_count": 44,
   "metadata": {},
   "outputs": [
    {
     "data": {
      "text/plain": [
       "Datetime    29\n",
       "TweetID     29\n",
       "Text        29\n",
       "Username    29\n",
       "dtype: int64"
      ]
     },
     "execution_count": 44,
     "metadata": {},
     "output_type": "execute_result"
    }
   ],
   "source": [
    "df67 = pd.DataFrame(user67, columns=['Datetime', 'TweetID', 'Text', 'Username'])\n",
    "df67.count()"
   ]
  },
  {
   "cell_type": "code",
   "execution_count": 45,
   "metadata": {},
   "outputs": [],
   "source": [
    "user68 = []\n",
    "maxTweets = 500\n",
    "\n",
    "for i,tweet in enumerate(sntwitter.TwitterSearchScraper('from:mhnmlnkrm since:2020-10-01 until:2020-12-30 lang:id -filter:retweets -filter:replies -filter:links').get_items()):\n",
    "    if i > maxTweets:\n",
    "        break\n",
    "    user68.append([tweet.date, tweet.id, tweet.content, tweet.username])"
   ]
  },
  {
   "cell_type": "code",
   "execution_count": 47,
   "metadata": {},
   "outputs": [
    {
     "data": {
      "text/plain": [
       "Datetime    21\n",
       "TweetID     21\n",
       "Text        21\n",
       "Username    21\n",
       "dtype: int64"
      ]
     },
     "execution_count": 47,
     "metadata": {},
     "output_type": "execute_result"
    }
   ],
   "source": [
    "df68 = pd.DataFrame(user68, columns=['Datetime', 'TweetID', 'Text', 'Username'])\n",
    "df68.count()"
   ]
  },
  {
   "cell_type": "code",
   "execution_count": 48,
   "metadata": {},
   "outputs": [],
   "source": [
    "user69 = []\n",
    "maxTweets = 500\n",
    "\n",
    "for i,tweet in enumerate(sntwitter.TwitterSearchScraper('from:Raramaliaega since:2020-10-01 until:2020-12-30 lang:id -filter:retweets -filter:replies -filter:links').get_items()):\n",
    "    if i > maxTweets:\n",
    "        break\n",
    "    user69.append([tweet.date, tweet.id, tweet.content, tweet.username])"
   ]
  },
  {
   "cell_type": "code",
   "execution_count": 49,
   "metadata": {},
   "outputs": [
    {
     "data": {
      "text/plain": [
       "Datetime    27\n",
       "TweetID     27\n",
       "Text        27\n",
       "Username    27\n",
       "dtype: int64"
      ]
     },
     "execution_count": 49,
     "metadata": {},
     "output_type": "execute_result"
    }
   ],
   "source": [
    "df69 = pd.DataFrame(user69, columns=['Datetime', 'TweetID', 'Text', 'Username'])\n",
    "df69.count()"
   ]
  },
  {
   "cell_type": "code",
   "execution_count": 50,
   "metadata": {},
   "outputs": [],
   "source": [
    "user70 = []\n",
    "maxTweets = 500\n",
    "\n",
    "for i,tweet in enumerate(sntwitter.TwitterSearchScraper('from:sodaajagembira since:2020-10-01 until:2020-12-30 lang:id -filter:retweets -filter:replies -filter:links').get_items()):\n",
    "    if i > maxTweets:\n",
    "        break\n",
    "    user70.append([tweet.date, tweet.id, tweet.content, tweet.username])"
   ]
  },
  {
   "cell_type": "code",
   "execution_count": 61,
   "metadata": {},
   "outputs": [
    {
     "data": {
      "text/plain": [
       "Datetime    6\n",
       "TweetID     6\n",
       "Text        6\n",
       "Username    6\n",
       "dtype: int64"
      ]
     },
     "execution_count": 61,
     "metadata": {},
     "output_type": "execute_result"
    }
   ],
   "source": [
    "df70 = pd.DataFrame(user70, columns=['Datetime', 'TweetID', 'Text', 'Username'])\n",
    "df70.count()"
   ]
  },
  {
   "cell_type": "code",
   "execution_count": 57,
   "metadata": {},
   "outputs": [],
   "source": [
    "df_user50 = pd.read_csv('scrape_user_50.csv')"
   ]
  },
  {
   "cell_type": "code",
   "execution_count": 58,
   "metadata": {},
   "outputs": [],
   "source": [
    "frames = [df_user50, df51, df52, df53, df54, df55, df56, df57, df58, df59, df60,\n",
    "         df61, df62, df63, df64, df65, df66, df67, df68, df69, df70]\n",
    "result = pd.concat(frames)"
   ]
  },
  {
   "cell_type": "code",
   "execution_count": 59,
   "metadata": {},
   "outputs": [],
   "source": [
    "result.to_csv('scrape_user_70.csv')"
   ]
  },
  {
   "cell_type": "code",
   "execution_count": 60,
   "metadata": {},
   "outputs": [
    {
     "name": "stdout",
     "output_type": "stream",
     "text": [
      "<class 'pandas.core.frame.DataFrame'>\n",
      "Int64Index: 9432 entries, 0 to 5\n",
      "Data columns (total 5 columns):\n",
      " #   Column      Non-Null Count  Dtype  \n",
      "---  ------      --------------  -----  \n",
      " 0   Unnamed: 0  6866 non-null   float64\n",
      " 1   Datetime    9432 non-null   object \n",
      " 2   TweetID     9432 non-null   int64  \n",
      " 3   Text        9432 non-null   object \n",
      " 4   Username    9432 non-null   object \n",
      "dtypes: float64(1), int64(1), object(3)\n",
      "memory usage: 442.1+ KB\n"
     ]
    }
   ],
   "source": [
    "result.info()"
   ]
  },
  {
   "cell_type": "code",
   "execution_count": 62,
   "metadata": {},
   "outputs": [],
   "source": [
    "user71 = []\n",
    "maxTweets = 500\n",
    "\n",
    "for i,tweet in enumerate(sntwitter.TwitterSearchScraper('from:samhwang0320 since:2020-10-01 until:2020-12-30 lang:id -filter:retweets -filter:replies -filter:links').get_items()):\n",
    "    if i > maxTweets:\n",
    "        break\n",
    "    user71.append([tweet.date, tweet.id, tweet.content, tweet.username])"
   ]
  },
  {
   "cell_type": "code",
   "execution_count": 63,
   "metadata": {},
   "outputs": [
    {
     "data": {
      "text/plain": [
       "Datetime    82\n",
       "TweetID     82\n",
       "Text        82\n",
       "Username    82\n",
       "dtype: int64"
      ]
     },
     "execution_count": 63,
     "metadata": {},
     "output_type": "execute_result"
    }
   ],
   "source": [
    "df71 = pd.DataFrame(user71, columns=['Datetime', 'TweetID', 'Text', 'Username'])\n",
    "df71.count()"
   ]
  },
  {
   "cell_type": "code",
   "execution_count": 64,
   "metadata": {},
   "outputs": [],
   "source": [
    "user72 = []\n",
    "maxTweets = 500\n",
    "\n",
    "for i,tweet in enumerate(sntwitter.TwitterSearchScraper('from:Silfntpasaribu since:2020-10-01 until:2020-12-30 lang:id -filter:retweets -filter:replies -filter:links').get_items()):\n",
    "    if i > maxTweets:\n",
    "        break\n",
    "    user72.append([tweet.date, tweet.id, tweet.content, tweet.username])"
   ]
  },
  {
   "cell_type": "code",
   "execution_count": 65,
   "metadata": {},
   "outputs": [
    {
     "data": {
      "text/plain": [
       "Datetime    7\n",
       "TweetID     7\n",
       "Text        7\n",
       "Username    7\n",
       "dtype: int64"
      ]
     },
     "execution_count": 65,
     "metadata": {},
     "output_type": "execute_result"
    }
   ],
   "source": [
    "df72 = pd.DataFrame(user72, columns=['Datetime', 'TweetID', 'Text', 'Username'])\n",
    "df72.count()"
   ]
  },
  {
   "cell_type": "code",
   "execution_count": 66,
   "metadata": {},
   "outputs": [],
   "source": [
    "user73 = []\n",
    "maxTweets = 500\n",
    "\n",
    "for i,tweet in enumerate(sntwitter.TwitterSearchScraper('from:agraasf_ since:2020-10-01 until:2020-12-30 lang:id -filter:retweets -filter:replies -filter:links').get_items()):\n",
    "    if i > maxTweets:\n",
    "        break\n",
    "    user73.append([tweet.date, tweet.id, tweet.content, tweet.username])"
   ]
  },
  {
   "cell_type": "code",
   "execution_count": 67,
   "metadata": {},
   "outputs": [
    {
     "data": {
      "text/plain": [
       "Datetime    35\n",
       "TweetID     35\n",
       "Text        35\n",
       "Username    35\n",
       "dtype: int64"
      ]
     },
     "execution_count": 67,
     "metadata": {},
     "output_type": "execute_result"
    }
   ],
   "source": [
    "df73 = pd.DataFrame(user73, columns=['Datetime', 'TweetID', 'Text', 'Username'])\n",
    "df73.count()"
   ]
  },
  {
   "cell_type": "code",
   "execution_count": 68,
   "metadata": {},
   "outputs": [],
   "source": [
    "user74 = []\n",
    "maxTweets = 500\n",
    "\n",
    "for i,tweet in enumerate(sntwitter.TwitterSearchScraper('from:wantutre123 since:2020-10-01 until:2020-12-30 lang:id -filter:retweets -filter:replies -filter:links').get_items()):\n",
    "    if i > maxTweets:\n",
    "        break\n",
    "    user74.append([tweet.date, tweet.id, tweet.content, tweet.username])"
   ]
  },
  {
   "cell_type": "code",
   "execution_count": 69,
   "metadata": {},
   "outputs": [
    {
     "data": {
      "text/plain": [
       "Datetime    8\n",
       "TweetID     8\n",
       "Text        8\n",
       "Username    8\n",
       "dtype: int64"
      ]
     },
     "execution_count": 69,
     "metadata": {},
     "output_type": "execute_result"
    }
   ],
   "source": [
    "df74 = pd.DataFrame(user74, columns=['Datetime', 'TweetID', 'Text', 'Username'])\n",
    "df74.count()"
   ]
  },
  {
   "cell_type": "code",
   "execution_count": 70,
   "metadata": {},
   "outputs": [],
   "source": [
    "user75 = []\n",
    "maxTweets = 500\n",
    "\n",
    "for i,tweet in enumerate(sntwitter.TwitterSearchScraper('from:LaudzaPramana since:2020-10-01 until:2020-12-30 lang:id -filter:retweets -filter:replies -filter:links').get_items()):\n",
    "    if i > maxTweets:\n",
    "        break\n",
    "    user75.append([tweet.date, tweet.id, tweet.content, tweet.username])"
   ]
  },
  {
   "cell_type": "code",
   "execution_count": 71,
   "metadata": {},
   "outputs": [
    {
     "data": {
      "text/plain": [
       "Datetime    29\n",
       "TweetID     29\n",
       "Text        29\n",
       "Username    29\n",
       "dtype: int64"
      ]
     },
     "execution_count": 71,
     "metadata": {},
     "output_type": "execute_result"
    }
   ],
   "source": [
    "df75 = pd.DataFrame(user75, columns=['Datetime', 'TweetID', 'Text', 'Username'])\n",
    "df75.count()"
   ]
  },
  {
   "cell_type": "code",
   "execution_count": 72,
   "metadata": {},
   "outputs": [],
   "source": [
    "user76 = []\n",
    "maxTweets = 500\n",
    "\n",
    "for i,tweet in enumerate(sntwitter.TwitterSearchScraper('from:Jaemincute_ since:2020-10-01 until:2020-12-30 lang:id -filter:retweets -filter:replies -filter:links').get_items()):\n",
    "    if i > maxTweets:\n",
    "        break\n",
    "    user76.append([tweet.date, tweet.id, tweet.content, tweet.username])"
   ]
  },
  {
   "cell_type": "code",
   "execution_count": 73,
   "metadata": {},
   "outputs": [
    {
     "data": {
      "text/plain": [
       "Datetime    348\n",
       "TweetID     348\n",
       "Text        348\n",
       "Username    348\n",
       "dtype: int64"
      ]
     },
     "execution_count": 73,
     "metadata": {},
     "output_type": "execute_result"
    }
   ],
   "source": [
    "df76 = pd.DataFrame(user76, columns=['Datetime', 'TweetID', 'Text', 'Username'])\n",
    "df76.count()"
   ]
  },
  {
   "cell_type": "code",
   "execution_count": 76,
   "metadata": {},
   "outputs": [],
   "source": [
    "user77 = []\n",
    "maxTweets = 500\n",
    "\n",
    "for i,tweet in enumerate(sntwitter.TwitterSearchScraper('from:Dansepi since:2020-10-01 until:2020-12-30 lang:id -filter:retweets -filter:replies -filter:links').get_items()):\n",
    "    if i > maxTweets:\n",
    "        break\n",
    "    user77.append([tweet.date, tweet.id, tweet.content, tweet.username])"
   ]
  },
  {
   "cell_type": "code",
   "execution_count": 77,
   "metadata": {},
   "outputs": [
    {
     "data": {
      "text/plain": [
       "Datetime    18\n",
       "TweetID     18\n",
       "Text        18\n",
       "Username    18\n",
       "dtype: int64"
      ]
     },
     "execution_count": 77,
     "metadata": {},
     "output_type": "execute_result"
    }
   ],
   "source": [
    "df77 = pd.DataFrame(user77, columns=['Datetime', 'TweetID', 'Text', 'Username'])\n",
    "df77.count()"
   ]
  },
  {
   "cell_type": "code",
   "execution_count": 90,
   "metadata": {},
   "outputs": [],
   "source": [
    "user78 = []\n",
    "maxTweets = 500\n",
    "\n",
    "for i,tweet in enumerate(sntwitter.TwitterSearchScraper('from:FudgyAloy since:2020-10-01 until:2020-12-30 lang:id -filter:retweets -filter:replies -filter:links').get_items()):\n",
    "    if i > maxTweets:\n",
    "        break\n",
    "    user78.append([tweet.date, tweet.id, tweet.content, tweet.username])"
   ]
  },
  {
   "cell_type": "code",
   "execution_count": 91,
   "metadata": {},
   "outputs": [
    {
     "data": {
      "text/plain": [
       "Datetime    100\n",
       "TweetID     100\n",
       "Text        100\n",
       "Username    100\n",
       "dtype: int64"
      ]
     },
     "execution_count": 91,
     "metadata": {},
     "output_type": "execute_result"
    }
   ],
   "source": [
    "df78 = pd.DataFrame(user78, columns=['Datetime', 'TweetID', 'Text', 'Username'])\n",
    "df78.count()"
   ]
  },
  {
   "cell_type": "code",
   "execution_count": 92,
   "metadata": {},
   "outputs": [],
   "source": [
    "user79 = []\n",
    "maxTweets = 500\n",
    "\n",
    "for i,tweet in enumerate(sntwitter.TwitterSearchScraper('from:sugarwendy_ since:2020-10-01 until:2020-12-30 lang:id -filter:retweets -filter:replies -filter:links').get_items()):\n",
    "    if i > maxTweets:\n",
    "        break\n",
    "    user79.append([tweet.date, tweet.id, tweet.content, tweet.username])"
   ]
  },
  {
   "cell_type": "code",
   "execution_count": 93,
   "metadata": {},
   "outputs": [
    {
     "data": {
      "text/plain": [
       "Datetime    40\n",
       "TweetID     40\n",
       "Text        40\n",
       "Username    40\n",
       "dtype: int64"
      ]
     },
     "execution_count": 93,
     "metadata": {},
     "output_type": "execute_result"
    }
   ],
   "source": [
    "df79 = pd.DataFrame(user79, columns=['Datetime', 'TweetID', 'Text', 'Username'])\n",
    "df79.count()"
   ]
  },
  {
   "cell_type": "code",
   "execution_count": 94,
   "metadata": {},
   "outputs": [],
   "source": [
    "user80 = []\n",
    "maxTweets = 500\n",
    "\n",
    "for i,tweet in enumerate(sntwitter.TwitterSearchScraper('from:DaffahanifD since:2020-10-01 until:2020-12-30 lang:id -filter:retweets -filter:replies -filter:links').get_items()):\n",
    "    if i > maxTweets:\n",
    "        break\n",
    "    user80.append([tweet.date, tweet.id, tweet.content, tweet.username])"
   ]
  },
  {
   "cell_type": "code",
   "execution_count": 95,
   "metadata": {},
   "outputs": [
    {
     "data": {
      "text/plain": [
       "Datetime    9\n",
       "TweetID     9\n",
       "Text        9\n",
       "Username    9\n",
       "dtype: int64"
      ]
     },
     "execution_count": 95,
     "metadata": {},
     "output_type": "execute_result"
    }
   ],
   "source": [
    "df80 = pd.DataFrame(user80, columns=['Datetime', 'TweetID', 'Text', 'Username'])\n",
    "df80.count()"
   ]
  },
  {
   "cell_type": "code",
   "execution_count": 100,
   "metadata": {},
   "outputs": [],
   "source": [
    "user81 = []\n",
    "maxTweets = 500\n",
    "\n",
    "for i,tweet in enumerate(sntwitter.TwitterSearchScraper('from:akazkh since:2020-10-01 until:2020-12-30 lang:id -filter:retweets -filter:replies -filter:links').get_items()):\n",
    "    if i > maxTweets:\n",
    "        break\n",
    "    user81.append([tweet.date, tweet.id, tweet.content, tweet.username])"
   ]
  },
  {
   "cell_type": "code",
   "execution_count": 101,
   "metadata": {},
   "outputs": [
    {
     "data": {
      "text/plain": [
       "Datetime    36\n",
       "TweetID     36\n",
       "Text        36\n",
       "Username    36\n",
       "dtype: int64"
      ]
     },
     "execution_count": 101,
     "metadata": {},
     "output_type": "execute_result"
    }
   ],
   "source": [
    "df81 = pd.DataFrame(user81, columns=['Datetime', 'TweetID', 'Text', 'Username'])\n",
    "df81.count()"
   ]
  },
  {
   "cell_type": "code",
   "execution_count": 104,
   "metadata": {},
   "outputs": [],
   "source": [
    "user82 = []\n",
    "maxTweets = 500\n",
    "\n",
    "for i,tweet in enumerate(sntwitter.TwitterSearchScraper('from:fooryohanie since:2020-10-01 until:2020-12-30 lang:id -filter:retweets -filter:replies -filter:links').get_items()):\n",
    "    if i > maxTweets:\n",
    "        break\n",
    "    user82.append([tweet.date, tweet.id, tweet.content, tweet.username])"
   ]
  },
  {
   "cell_type": "code",
   "execution_count": 105,
   "metadata": {},
   "outputs": [
    {
     "data": {
      "text/plain": [
       "Datetime    155\n",
       "TweetID     155\n",
       "Text        155\n",
       "Username    155\n",
       "dtype: int64"
      ]
     },
     "execution_count": 105,
     "metadata": {},
     "output_type": "execute_result"
    }
   ],
   "source": [
    "df82 = pd.DataFrame(user82, columns=['Datetime', 'TweetID', 'Text', 'Username'])\n",
    "df82.count()"
   ]
  },
  {
   "cell_type": "code",
   "execution_count": 106,
   "metadata": {},
   "outputs": [],
   "source": [
    "user83 = []\n",
    "maxTweets = 500\n",
    "\n",
    "for i,tweet in enumerate(sntwitter.TwitterSearchScraper('from:Apaansihgajeee since:2020-10-01 until:2020-12-30 lang:id -filter:retweets -filter:replies -filter:links').get_items()):\n",
    "    if i > maxTweets:\n",
    "        break\n",
    "    user83.append([tweet.date, tweet.id, tweet.content, tweet.username])"
   ]
  },
  {
   "cell_type": "code",
   "execution_count": 107,
   "metadata": {},
   "outputs": [
    {
     "data": {
      "text/plain": [
       "Datetime    3\n",
       "TweetID     3\n",
       "Text        3\n",
       "Username    3\n",
       "dtype: int64"
      ]
     },
     "execution_count": 107,
     "metadata": {},
     "output_type": "execute_result"
    }
   ],
   "source": [
    "df83 = pd.DataFrame(user83, columns=['Datetime', 'TweetID', 'Text', 'Username'])\n",
    "df83.count()"
   ]
  },
  {
   "cell_type": "code",
   "execution_count": 108,
   "metadata": {},
   "outputs": [],
   "source": [
    "user84 = []\n",
    "maxTweets = 500\n",
    "\n",
    "for i,tweet in enumerate(sntwitter.TwitterSearchScraper('from:Rafi_andirafisb since:2020-10-01 until:2020-12-30 lang:id -filter:retweets -filter:replies -filter:links').get_items()):\n",
    "    if i > maxTweets:\n",
    "        break\n",
    "    user84.append([tweet.date, tweet.id, tweet.content, tweet.username])"
   ]
  },
  {
   "cell_type": "code",
   "execution_count": 109,
   "metadata": {},
   "outputs": [
    {
     "data": {
      "text/plain": [
       "Datetime    3\n",
       "TweetID     3\n",
       "Text        3\n",
       "Username    3\n",
       "dtype: int64"
      ]
     },
     "execution_count": 109,
     "metadata": {},
     "output_type": "execute_result"
    }
   ],
   "source": [
    "df84 = pd.DataFrame(user84, columns=['Datetime', 'TweetID', 'Text', 'Username'])\n",
    "df84.count()"
   ]
  },
  {
   "cell_type": "code",
   "execution_count": 110,
   "metadata": {},
   "outputs": [],
   "source": [
    "user85 = []\n",
    "maxTweets = 500\n",
    "\n",
    "for i,tweet in enumerate(sntwitter.TwitterSearchScraper('from:FrashaCandra since:2020-10-01 until:2020-12-30 lang:id -filter:retweets -filter:replies -filter:links').get_items()):\n",
    "    if i > maxTweets:\n",
    "        break\n",
    "    user85.append([tweet.date, tweet.id, tweet.content, tweet.username])"
   ]
  },
  {
   "cell_type": "code",
   "execution_count": 111,
   "metadata": {},
   "outputs": [
    {
     "data": {
      "text/plain": [
       "Datetime    216\n",
       "TweetID     216\n",
       "Text        216\n",
       "Username    216\n",
       "dtype: int64"
      ]
     },
     "execution_count": 111,
     "metadata": {},
     "output_type": "execute_result"
    }
   ],
   "source": [
    "df85 = pd.DataFrame(user85, columns=['Datetime', 'TweetID', 'Text', 'Username'])\n",
    "df85.count()"
   ]
  },
  {
   "cell_type": "code",
   "execution_count": 114,
   "metadata": {},
   "outputs": [],
   "source": [
    "user86 = []\n",
    "maxTweets = 500\n",
    "\n",
    "for i,tweet in enumerate(sntwitter.TwitterSearchScraper('from:MaSoulKey since:2020-10-01 until:2020-12-30 lang:id -filter:retweets -filter:replies -filter:links').get_items()):\n",
    "    if i > maxTweets:\n",
    "        break\n",
    "    user86.append([tweet.date, tweet.id, tweet.content, tweet.username])"
   ]
  },
  {
   "cell_type": "code",
   "execution_count": 115,
   "metadata": {},
   "outputs": [
    {
     "data": {
      "text/plain": [
       "Datetime    32\n",
       "TweetID     32\n",
       "Text        32\n",
       "Username    32\n",
       "dtype: int64"
      ]
     },
     "execution_count": 115,
     "metadata": {},
     "output_type": "execute_result"
    }
   ],
   "source": [
    "df86 = pd.DataFrame(user86, columns=['Datetime', 'TweetID', 'Text', 'Username'])\n",
    "df86.count()"
   ]
  },
  {
   "cell_type": "code",
   "execution_count": 116,
   "metadata": {},
   "outputs": [],
   "source": [
    "user87 = []\n",
    "maxTweets = 500\n",
    "\n",
    "for i,tweet in enumerate(sntwitter.TwitterSearchScraper('from:Dwiwahhyuni since:2020-10-01 until:2020-12-30 lang:id -filter:retweets -filter:replies -filter:links').get_items()):\n",
    "    if i > maxTweets:\n",
    "        break\n",
    "    user87.append([tweet.date, tweet.id, tweet.content, tweet.username])"
   ]
  },
  {
   "cell_type": "code",
   "execution_count": 117,
   "metadata": {},
   "outputs": [
    {
     "data": {
      "text/plain": [
       "Datetime    1\n",
       "TweetID     1\n",
       "Text        1\n",
       "Username    1\n",
       "dtype: int64"
      ]
     },
     "execution_count": 117,
     "metadata": {},
     "output_type": "execute_result"
    }
   ],
   "source": [
    "df87 = pd.DataFrame(user87, columns=['Datetime', 'TweetID', 'Text', 'Username'])\n",
    "df87.count()"
   ]
  },
  {
   "cell_type": "code",
   "execution_count": 120,
   "metadata": {},
   "outputs": [],
   "source": [
    "user88 = []\n",
    "maxTweets = 500\n",
    "\n",
    "for i,tweet in enumerate(sntwitter.TwitterSearchScraper('from:JJK2806 since:2020-10-01 until:2020-12-30 lang:id -filter:retweets -filter:replies -filter:links').get_items()):\n",
    "    if i > maxTweets:\n",
    "        break\n",
    "    user88.append([tweet.date, tweet.id, tweet.content, tweet.username])"
   ]
  },
  {
   "cell_type": "code",
   "execution_count": 121,
   "metadata": {},
   "outputs": [
    {
     "data": {
      "text/plain": [
       "Datetime    147\n",
       "TweetID     147\n",
       "Text        147\n",
       "Username    147\n",
       "dtype: int64"
      ]
     },
     "execution_count": 121,
     "metadata": {},
     "output_type": "execute_result"
    }
   ],
   "source": [
    "df88 = pd.DataFrame(user88, columns=['Datetime', 'TweetID', 'Text', 'Username'])\n",
    "df88.count()"
   ]
  },
  {
   "cell_type": "code",
   "execution_count": 122,
   "metadata": {},
   "outputs": [],
   "source": [
    "user89 = []\n",
    "maxTweets = 500\n",
    "\n",
    "for i,tweet in enumerate(sntwitter.TwitterSearchScraper('from:Cichayy since:2020-10-01 until:2020-12-30 lang:id -filter:retweets -filter:replies -filter:links').get_items()):\n",
    "    if i > maxTweets:\n",
    "        break\n",
    "    user89.append([tweet.date, tweet.id, tweet.content, tweet.username])"
   ]
  },
  {
   "cell_type": "code",
   "execution_count": 123,
   "metadata": {},
   "outputs": [
    {
     "data": {
      "text/plain": [
       "Datetime    47\n",
       "TweetID     47\n",
       "Text        47\n",
       "Username    47\n",
       "dtype: int64"
      ]
     },
     "execution_count": 123,
     "metadata": {},
     "output_type": "execute_result"
    }
   ],
   "source": [
    "df89 = pd.DataFrame(user89, columns=['Datetime', 'TweetID', 'Text', 'Username'])\n",
    "df89.count()"
   ]
  },
  {
   "cell_type": "code",
   "execution_count": 124,
   "metadata": {},
   "outputs": [],
   "source": [
    "user90 = []\n",
    "maxTweets = 500\n",
    "\n",
    "for i,tweet in enumerate(sntwitter.TwitterSearchScraper('from:Soprettt since:2020-10-01 until:2020-12-30 lang:id -filter:retweets -filter:replies -filter:links').get_items()):\n",
    "    if i > maxTweets:\n",
    "        break\n",
    "    user90.append([tweet.date, tweet.id, tweet.content, tweet.username])"
   ]
  },
  {
   "cell_type": "code",
   "execution_count": 125,
   "metadata": {},
   "outputs": [
    {
     "data": {
      "text/plain": [
       "Datetime    124\n",
       "TweetID     124\n",
       "Text        124\n",
       "Username    124\n",
       "dtype: int64"
      ]
     },
     "execution_count": 125,
     "metadata": {},
     "output_type": "execute_result"
    }
   ],
   "source": [
    "df90 = pd.DataFrame(user90, columns=['Datetime', 'TweetID', 'Text', 'Username'])\n",
    "df90.count()"
   ]
  },
  {
   "cell_type": "code",
   "execution_count": 130,
   "metadata": {},
   "outputs": [],
   "source": [
    "user91 = []\n",
    "maxTweets = 500\n",
    "\n",
    "for i,tweet in enumerate(sntwitter.TwitterSearchScraper('from:simalaikatWkw since:2020-10-01 until:2020-12-30 lang:id -filter:retweets -filter:replies -filter:links').get_items()):\n",
    "    if i > maxTweets:\n",
    "        break\n",
    "    user91.append([tweet.date, tweet.id, tweet.content, tweet.username])"
   ]
  },
  {
   "cell_type": "code",
   "execution_count": 131,
   "metadata": {},
   "outputs": [
    {
     "data": {
      "text/plain": [
       "Datetime    11\n",
       "TweetID     11\n",
       "Text        11\n",
       "Username    11\n",
       "dtype: int64"
      ]
     },
     "execution_count": 131,
     "metadata": {},
     "output_type": "execute_result"
    }
   ],
   "source": [
    "df91 = pd.DataFrame(user91, columns=['Datetime', 'TweetID', 'Text', 'Username'])\n",
    "df91.count()"
   ]
  },
  {
   "cell_type": "code",
   "execution_count": 132,
   "metadata": {},
   "outputs": [],
   "source": [
    "user92 = []\n",
    "maxTweets = 500\n",
    "\n",
    "for i,tweet in enumerate(sntwitter.TwitterSearchScraper('from:Amiingyu_ since:2020-10-01 until:2020-12-30 lang:id -filter:retweets -filter:replies -filter:links').get_items()):\n",
    "    if i > maxTweets:\n",
    "        break\n",
    "    user92.append([tweet.date, tweet.id, tweet.content, tweet.username])"
   ]
  },
  {
   "cell_type": "code",
   "execution_count": 133,
   "metadata": {},
   "outputs": [
    {
     "data": {
      "text/plain": [
       "Datetime    199\n",
       "TweetID     199\n",
       "Text        199\n",
       "Username    199\n",
       "dtype: int64"
      ]
     },
     "execution_count": 133,
     "metadata": {},
     "output_type": "execute_result"
    }
   ],
   "source": [
    "df92 = pd.DataFrame(user92, columns=['Datetime', 'TweetID', 'Text', 'Username'])\n",
    "df92.count()"
   ]
  },
  {
   "cell_type": "code",
   "execution_count": 134,
   "metadata": {},
   "outputs": [],
   "source": [
    "user93 = []\n",
    "maxTweets = 500\n",
    "\n",
    "for i,tweet in enumerate(sntwitter.TwitterSearchScraper('from:TenZidna since:2020-10-01 until:2020-12-30 lang:id -filter:retweets -filter:replies -filter:links').get_items()):\n",
    "    if i > maxTweets:\n",
    "        break\n",
    "    user93.append([tweet.date, tweet.id, tweet.content, tweet.username])"
   ]
  },
  {
   "cell_type": "code",
   "execution_count": 135,
   "metadata": {},
   "outputs": [
    {
     "data": {
      "text/plain": [
       "Datetime    52\n",
       "TweetID     52\n",
       "Text        52\n",
       "Username    52\n",
       "dtype: int64"
      ]
     },
     "execution_count": 135,
     "metadata": {},
     "output_type": "execute_result"
    }
   ],
   "source": [
    "df93 = pd.DataFrame(user93, columns=['Datetime', 'TweetID', 'Text', 'Username'])\n",
    "df93.count()"
   ]
  },
  {
   "cell_type": "code",
   "execution_count": 136,
   "metadata": {},
   "outputs": [],
   "source": [
    "user94 = []\n",
    "maxTweets = 500\n",
    "\n",
    "for i,tweet in enumerate(sntwitter.TwitterSearchScraper('from:Azkiaaa_Sy since:2020-10-01 until:2020-12-30 lang:id -filter:retweets -filter:replies -filter:links').get_items()):\n",
    "    if i > maxTweets:\n",
    "        break\n",
    "    user94.append([tweet.date, tweet.id, tweet.content, tweet.username])"
   ]
  },
  {
   "cell_type": "code",
   "execution_count": 137,
   "metadata": {},
   "outputs": [
    {
     "data": {
      "text/plain": [
       "Datetime    113\n",
       "TweetID     113\n",
       "Text        113\n",
       "Username    113\n",
       "dtype: int64"
      ]
     },
     "execution_count": 137,
     "metadata": {},
     "output_type": "execute_result"
    }
   ],
   "source": [
    "df94 = pd.DataFrame(user94, columns=['Datetime', 'TweetID', 'Text', 'Username'])\n",
    "df94.count()"
   ]
  },
  {
   "cell_type": "code",
   "execution_count": 138,
   "metadata": {},
   "outputs": [],
   "source": [
    "user95 = []\n",
    "maxTweets = 500\n",
    "\n",
    "for i,tweet in enumerate(sntwitter.TwitterSearchScraper('from:TioSaju since:2020-10-01 until:2020-12-30 lang:id -filter:retweets -filter:replies -filter:links').get_items()):\n",
    "    if i > maxTweets:\n",
    "        break\n",
    "    user95.append([tweet.date, tweet.id, tweet.content, tweet.username])"
   ]
  },
  {
   "cell_type": "code",
   "execution_count": 139,
   "metadata": {},
   "outputs": [
    {
     "data": {
      "text/plain": [
       "Datetime    427\n",
       "TweetID     427\n",
       "Text        427\n",
       "Username    427\n",
       "dtype: int64"
      ]
     },
     "execution_count": 139,
     "metadata": {},
     "output_type": "execute_result"
    }
   ],
   "source": [
    "df95 = pd.DataFrame(user95, columns=['Datetime', 'TweetID', 'Text', 'Username'])\n",
    "df95.count()"
   ]
  },
  {
   "cell_type": "code",
   "execution_count": 140,
   "metadata": {},
   "outputs": [],
   "source": [
    "user96 = []\n",
    "maxTweets = 500\n",
    "\n",
    "for i,tweet in enumerate(sntwitter.TwitterSearchScraper('from:kokoolaa_ since:2020-10-01 until:2020-12-30 lang:id -filter:retweets -filter:replies -filter:links').get_items()):\n",
    "    if i > maxTweets:\n",
    "        break\n",
    "    user96.append([tweet.date, tweet.id, tweet.content, tweet.username])"
   ]
  },
  {
   "cell_type": "code",
   "execution_count": 141,
   "metadata": {},
   "outputs": [
    {
     "data": {
      "text/plain": [
       "Datetime    119\n",
       "TweetID     119\n",
       "Text        119\n",
       "Username    119\n",
       "dtype: int64"
      ]
     },
     "execution_count": 141,
     "metadata": {},
     "output_type": "execute_result"
    }
   ],
   "source": [
    "df96 = pd.DataFrame(user96, columns=['Datetime', 'TweetID', 'Text', 'Username'])\n",
    "df96.count()"
   ]
  },
  {
   "cell_type": "code",
   "execution_count": 144,
   "metadata": {},
   "outputs": [],
   "source": [
    "user97 = []\n",
    "maxTweets = 500\n",
    "\n",
    "for i,tweet in enumerate(sntwitter.TwitterSearchScraper('from:KentangPokpok since:2020-10-01 until:2020-12-30 lang:id -filter:retweets -filter:replies -filter:links').get_items()):\n",
    "    if i > maxTweets:\n",
    "        break\n",
    "    user97.append([tweet.date, tweet.id, tweet.content, tweet.username])"
   ]
  },
  {
   "cell_type": "code",
   "execution_count": 145,
   "metadata": {},
   "outputs": [
    {
     "data": {
      "text/plain": [
       "Datetime    14\n",
       "TweetID     14\n",
       "Text        14\n",
       "Username    14\n",
       "dtype: int64"
      ]
     },
     "execution_count": 145,
     "metadata": {},
     "output_type": "execute_result"
    }
   ],
   "source": [
    "df97 = pd.DataFrame(user97, columns=['Datetime', 'TweetID', 'Text', 'Username'])\n",
    "df97.count()"
   ]
  },
  {
   "cell_type": "code",
   "execution_count": 146,
   "metadata": {},
   "outputs": [],
   "source": [
    "user98 = []\n",
    "maxTweets = 500\n",
    "\n",
    "for i,tweet in enumerate(sntwitter.TwitterSearchScraper('from:Parknopskie since:2020-10-01 until:2020-12-30 lang:id -filter:retweets -filter:replies -filter:links').get_items()):\n",
    "    if i > maxTweets:\n",
    "        break\n",
    "    user98.append([tweet.date, tweet.id, tweet.content, tweet.username])"
   ]
  },
  {
   "cell_type": "code",
   "execution_count": 147,
   "metadata": {},
   "outputs": [
    {
     "data": {
      "text/plain": [
       "Datetime    76\n",
       "TweetID     76\n",
       "Text        76\n",
       "Username    76\n",
       "dtype: int64"
      ]
     },
     "execution_count": 147,
     "metadata": {},
     "output_type": "execute_result"
    }
   ],
   "source": [
    "df98 = pd.DataFrame(user98, columns=['Datetime', 'TweetID', 'Text', 'Username'])\n",
    "df98.count()"
   ]
  },
  {
   "cell_type": "code",
   "execution_count": 148,
   "metadata": {},
   "outputs": [],
   "source": [
    "user99 = []\n",
    "maxTweets = 500\n",
    "\n",
    "for i,tweet in enumerate(sntwitter.TwitterSearchScraper('from:bellakhr since:2020-10-01 until:2020-12-30 lang:id -filter:retweets -filter:replies -filter:links').get_items()):\n",
    "    if i > maxTweets:\n",
    "        break\n",
    "    user99.append([tweet.date, tweet.id, tweet.content, tweet.username])"
   ]
  },
  {
   "cell_type": "code",
   "execution_count": 149,
   "metadata": {},
   "outputs": [
    {
     "data": {
      "text/plain": [
       "Datetime    43\n",
       "TweetID     43\n",
       "Text        43\n",
       "Username    43\n",
       "dtype: int64"
      ]
     },
     "execution_count": 149,
     "metadata": {},
     "output_type": "execute_result"
    }
   ],
   "source": [
    "df99 = pd.DataFrame(user99, columns=['Datetime', 'TweetID', 'Text', 'Username'])\n",
    "df99.count()"
   ]
  },
  {
   "cell_type": "code",
   "execution_count": 150,
   "metadata": {},
   "outputs": [],
   "source": [
    "user100 = []\n",
    "maxTweets = 500\n",
    "\n",
    "for i,tweet in enumerate(sntwitter.TwitterSearchScraper('from:AdityaW219 since:2020-10-01 until:2020-12-30 lang:id -filter:retweets -filter:replies -filter:links').get_items()):\n",
    "    if i > maxTweets:\n",
    "        break\n",
    "    user100.append([tweet.date, tweet.id, tweet.content, tweet.username])"
   ]
  },
  {
   "cell_type": "code",
   "execution_count": 151,
   "metadata": {},
   "outputs": [
    {
     "data": {
      "text/plain": [
       "Datetime    44\n",
       "TweetID     44\n",
       "Text        44\n",
       "Username    44\n",
       "dtype: int64"
      ]
     },
     "execution_count": 151,
     "metadata": {},
     "output_type": "execute_result"
    }
   ],
   "source": [
    "df100 = pd.DataFrame(user100, columns=['Datetime', 'TweetID', 'Text', 'Username'])\n",
    "df100.count()"
   ]
  },
  {
   "cell_type": "code",
   "execution_count": 153,
   "metadata": {},
   "outputs": [
    {
     "data": {
      "text/html": [
       "<div>\n",
       "<style scoped>\n",
       "    .dataframe tbody tr th:only-of-type {\n",
       "        vertical-align: middle;\n",
       "    }\n",
       "\n",
       "    .dataframe tbody tr th {\n",
       "        vertical-align: top;\n",
       "    }\n",
       "\n",
       "    .dataframe thead th {\n",
       "        text-align: right;\n",
       "    }\n",
       "</style>\n",
       "<table border=\"1\" class=\"dataframe\">\n",
       "  <thead>\n",
       "    <tr style=\"text-align: right;\">\n",
       "      <th></th>\n",
       "      <th>Unnamed: 0</th>\n",
       "      <th>Datetime</th>\n",
       "      <th>TweetID</th>\n",
       "      <th>Text</th>\n",
       "      <th>Username</th>\n",
       "    </tr>\n",
       "  </thead>\n",
       "  <tbody>\n",
       "    <tr>\n",
       "      <th>0</th>\n",
       "      <td>0.0</td>\n",
       "      <td>2020-10-31 06:10:22+00:00</td>\n",
       "      <td>1322420631590240260</td>\n",
       "      <td>biasa bgt ngchat klo lgi butuh doang 😂</td>\n",
       "      <td>sweetiebiy</td>\n",
       "    </tr>\n",
       "    <tr>\n",
       "      <th>1</th>\n",
       "      <td>1.0</td>\n",
       "      <td>2020-10-22 09:05:58+00:00</td>\n",
       "      <td>1319203329470132227</td>\n",
       "      <td>bener² ya sebentarnya bude itu bisa buat nonto...</td>\n",
       "      <td>sweetiebiy</td>\n",
       "    </tr>\n",
       "    <tr>\n",
       "      <th>2</th>\n",
       "      <td>2.0</td>\n",
       "      <td>2020-10-20 05:24:24+00:00</td>\n",
       "      <td>1318422797215887360</td>\n",
       "      <td>beruntunglah kalian yg bisa BAB lancar</td>\n",
       "      <td>sweetiebiy</td>\n",
       "    </tr>\n",
       "    <tr>\n",
       "      <th>3</th>\n",
       "      <td>3.0</td>\n",
       "      <td>2020-10-19 09:16:28+00:00</td>\n",
       "      <td>1318118811803938819</td>\n",
       "      <td>Tertampar vokal dan suaranya mereka... Gila se...</td>\n",
       "      <td>sweetiebiy</td>\n",
       "    </tr>\n",
       "    <tr>\n",
       "      <th>4</th>\n",
       "      <td>4.0</td>\n",
       "      <td>2020-10-18 17:21:51+00:00</td>\n",
       "      <td>1317878571159883777</td>\n",
       "      <td>ya Allah, jodohkanlah aku dgn teman sdku yg ga...</td>\n",
       "      <td>sweetiebiy</td>\n",
       "    </tr>\n",
       "    <tr>\n",
       "      <th>...</th>\n",
       "      <td>...</td>\n",
       "      <td>...</td>\n",
       "      <td>...</td>\n",
       "      <td>...</td>\n",
       "      <td>...</td>\n",
       "    </tr>\n",
       "    <tr>\n",
       "      <th>1</th>\n",
       "      <td>NaN</td>\n",
       "      <td>2020-12-16 17:57:32+00:00</td>\n",
       "      <td>1339268439223848962</td>\n",
       "      <td>Seru banget ini kepala daerah sama pembantu pr...</td>\n",
       "      <td>sodaajagembira</td>\n",
       "    </tr>\n",
       "    <tr>\n",
       "      <th>2</th>\n",
       "      <td>NaN</td>\n",
       "      <td>2020-12-16 17:30:47+00:00</td>\n",
       "      <td>1339261704874516480</td>\n",
       "      <td>Lagian itu yg bener aja apa masih jam setengah...</td>\n",
       "      <td>sodaajagembira</td>\n",
       "    </tr>\n",
       "    <tr>\n",
       "      <th>3</th>\n",
       "      <td>NaN</td>\n",
       "      <td>2020-10-05 11:58:01+00:00</td>\n",
       "      <td>1313086037657227264</td>\n",
       "      <td>Kesehatan masyarakat diabaikan suara rakyat pu...</td>\n",
       "      <td>sodaajagembira</td>\n",
       "    </tr>\n",
       "    <tr>\n",
       "      <th>4</th>\n",
       "      <td>NaN</td>\n",
       "      <td>2020-10-04 13:25:08+00:00</td>\n",
       "      <td>1312745570969120768</td>\n",
       "      <td>*liat langit cerah otw bawa mobil bokap ke ste...</td>\n",
       "      <td>sodaajagembira</td>\n",
       "    </tr>\n",
       "    <tr>\n",
       "      <th>5</th>\n",
       "      <td>NaN</td>\n",
       "      <td>2020-10-02 15:21:53+00:00</td>\n",
       "      <td>1312050174731010048</td>\n",
       "      <td>Stress bat kuliah online babi</td>\n",
       "      <td>sodaajagembira</td>\n",
       "    </tr>\n",
       "  </tbody>\n",
       "</table>\n",
       "<p>9432 rows × 5 columns</p>\n",
       "</div>"
      ],
      "text/plain": [
       "    Unnamed: 0                   Datetime              TweetID  \\\n",
       "0          0.0  2020-10-31 06:10:22+00:00  1322420631590240260   \n",
       "1          1.0  2020-10-22 09:05:58+00:00  1319203329470132227   \n",
       "2          2.0  2020-10-20 05:24:24+00:00  1318422797215887360   \n",
       "3          3.0  2020-10-19 09:16:28+00:00  1318118811803938819   \n",
       "4          4.0  2020-10-18 17:21:51+00:00  1317878571159883777   \n",
       "..         ...                        ...                  ...   \n",
       "1          NaN  2020-12-16 17:57:32+00:00  1339268439223848962   \n",
       "2          NaN  2020-12-16 17:30:47+00:00  1339261704874516480   \n",
       "3          NaN  2020-10-05 11:58:01+00:00  1313086037657227264   \n",
       "4          NaN  2020-10-04 13:25:08+00:00  1312745570969120768   \n",
       "5          NaN  2020-10-02 15:21:53+00:00  1312050174731010048   \n",
       "\n",
       "                                                 Text        Username  \n",
       "0              biasa bgt ngchat klo lgi butuh doang 😂      sweetiebiy  \n",
       "1   bener² ya sebentarnya bude itu bisa buat nonto...      sweetiebiy  \n",
       "2              beruntunglah kalian yg bisa BAB lancar      sweetiebiy  \n",
       "3   Tertampar vokal dan suaranya mereka... Gila se...      sweetiebiy  \n",
       "4   ya Allah, jodohkanlah aku dgn teman sdku yg ga...      sweetiebiy  \n",
       "..                                                ...             ...  \n",
       "1   Seru banget ini kepala daerah sama pembantu pr...  sodaajagembira  \n",
       "2   Lagian itu yg bener aja apa masih jam setengah...  sodaajagembira  \n",
       "3   Kesehatan masyarakat diabaikan suara rakyat pu...  sodaajagembira  \n",
       "4   *liat langit cerah otw bawa mobil bokap ke ste...  sodaajagembira  \n",
       "5                       Stress bat kuliah online babi  sodaajagembira  \n",
       "\n",
       "[9432 rows x 5 columns]"
      ]
     },
     "execution_count": 153,
     "metadata": {},
     "output_type": "execute_result"
    }
   ],
   "source": [
    "result.drop_duplicates()"
   ]
  },
  {
   "cell_type": "code",
   "execution_count": 156,
   "metadata": {},
   "outputs": [],
   "source": [
    "results = result[(result.Username != 'halluismine')] "
   ]
  },
  {
   "cell_type": "code",
   "execution_count": 158,
   "metadata": {},
   "outputs": [
    {
     "name": "stdout",
     "output_type": "stream",
     "text": [
      "Total Username : 68\n"
     ]
    }
   ],
   "source": [
    "n = len(pd.unique(results['Username'])) \n",
    "  \n",
    "print(\"Total Username :\", n)"
   ]
  },
  {
   "cell_type": "code",
   "execution_count": 159,
   "metadata": {},
   "outputs": [],
   "source": [
    "results.to_csv('scrape_user_68.csv')"
   ]
  },
  {
   "cell_type": "code",
   "execution_count": 160,
   "metadata": {},
   "outputs": [],
   "source": [
    "user59 = []\n",
    "maxTweets = 500\n",
    "\n",
    "for i,tweet in enumerate(sntwitter.TwitterSearchScraper('from:halluismine since:2020-10-01 until:2020-12-30 lang:id -filter:retweets -filter:replies -filter:links').get_items()):\n",
    "    if i > maxTweets:\n",
    "        break\n",
    "    user59.append([tweet.date, tweet.id, tweet.content, tweet.username])"
   ]
  },
  {
   "cell_type": "code",
   "execution_count": 161,
   "metadata": {},
   "outputs": [
    {
     "data": {
      "text/plain": [
       "Datetime    369\n",
       "TweetID     369\n",
       "Text        369\n",
       "Username    369\n",
       "dtype: int64"
      ]
     },
     "execution_count": 161,
     "metadata": {},
     "output_type": "execute_result"
    }
   ],
   "source": [
    "df59 = pd.DataFrame(user59, columns=['Datetime', 'TweetID', 'Text', 'Username'])\n",
    "df59.count()"
   ]
  },
  {
   "cell_type": "code",
   "execution_count": 162,
   "metadata": {},
   "outputs": [],
   "source": [
    "dfuser68 = pd.read_csv('scrape_user_68.csv')"
   ]
  },
  {
   "cell_type": "code",
   "execution_count": 165,
   "metadata": {},
   "outputs": [],
   "source": [
    "user101 = []\n",
    "maxTweets = 500\n",
    "\n",
    "for i,tweet in enumerate(sntwitter.TwitterSearchScraper('from:Nurmaliza26 since:2020-10-01 until:2020-12-30 lang:id -filter:retweets -filter:replies -filter:links').get_items()):\n",
    "    if i > maxTweets:\n",
    "        break\n",
    "    user101.append([tweet.date, tweet.id, tweet.content, tweet.username])"
   ]
  },
  {
   "cell_type": "code",
   "execution_count": 166,
   "metadata": {},
   "outputs": [
    {
     "data": {
      "text/plain": [
       "Datetime    46\n",
       "TweetID     46\n",
       "Text        46\n",
       "Username    46\n",
       "dtype: int64"
      ]
     },
     "execution_count": 166,
     "metadata": {},
     "output_type": "execute_result"
    }
   ],
   "source": [
    "df101 = pd.DataFrame(user101, columns=['Datetime', 'TweetID', 'Text', 'Username'])\n",
    "df101.count()"
   ]
  },
  {
   "cell_type": "code",
   "execution_count": 167,
   "metadata": {},
   "outputs": [],
   "source": [
    "frames = [dfuser68, df71, df72, df73, df74, df75, df76, df77, df78, df79, df80,\n",
    "         df81, df82, df83, df84, df85, df86, df87, df88, df89, df90, df59,\n",
    "         df91, df92, df93, df94, df95, df96, df97, df98, df99, df100, df101]\n",
    "result100 = pd.concat(frames)"
   ]
  },
  {
   "cell_type": "code",
   "execution_count": 168,
   "metadata": {},
   "outputs": [
    {
     "name": "stdout",
     "output_type": "stream",
     "text": [
      "Total Username : 100\n"
     ]
    }
   ],
   "source": [
    "n = len(pd.unique(result100['Username'])) \n",
    "  \n",
    "print(\"Total Username :\", n)"
   ]
  },
  {
   "cell_type": "code",
   "execution_count": 176,
   "metadata": {},
   "outputs": [],
   "source": [
    "results100 = result100.drop(result100.columns[0], axis = 1)"
   ]
  },
  {
   "cell_type": "code",
   "execution_count": 179,
   "metadata": {},
   "outputs": [],
   "source": [
    "results_100 = results100.drop(results100.columns[0], axis = 1)"
   ]
  },
  {
   "cell_type": "code",
   "execution_count": 180,
   "metadata": {},
   "outputs": [
    {
     "name": "stdout",
     "output_type": "stream",
     "text": [
      "<class 'pandas.core.frame.DataFrame'>\n",
      "Int64Index: 11923 entries, 0 to 45\n",
      "Data columns (total 4 columns):\n",
      " #   Column    Non-Null Count  Dtype \n",
      "---  ------    --------------  ----- \n",
      " 0   Datetime  11923 non-null  object\n",
      " 1   TweetID   11923 non-null  int64 \n",
      " 2   Text      11923 non-null  object\n",
      " 3   Username  11923 non-null  object\n",
      "dtypes: int64(1), object(3)\n",
      "memory usage: 465.7+ KB\n"
     ]
    }
   ],
   "source": [
    "results_100.info()"
   ]
  },
  {
   "cell_type": "code",
   "execution_count": 181,
   "metadata": {},
   "outputs": [],
   "source": [
    "results_100.to_csv('scrape_user_100.csv')"
   ]
  },
  {
   "cell_type": "code",
   "execution_count": 183,
   "metadata": {},
   "outputs": [],
   "source": [
    "df100 = pd.read_csv('scrape_user_100.csv')"
   ]
  },
  {
   "cell_type": "code",
   "execution_count": 184,
   "metadata": {},
   "outputs": [],
   "source": [
    "df_100 = df100[(df100.Username != 'mikurooba')] "
   ]
  },
  {
   "cell_type": "code",
   "execution_count": 185,
   "metadata": {},
   "outputs": [
    {
     "name": "stdout",
     "output_type": "stream",
     "text": [
      "Total Username : 99\n"
     ]
    }
   ],
   "source": [
    "n = len(pd.unique(df_100['Username'])) \n",
    "  \n",
    "print(\"Total Username :\", n)"
   ]
  },
  {
   "cell_type": "code",
   "execution_count": 186,
   "metadata": {},
   "outputs": [],
   "source": [
    "user52 = []\n",
    "maxTweets = 500\n",
    "\n",
    "for i,tweet in enumerate(sntwitter.TwitterSearchScraper('from:darklvnch since:2020-10-01 until:2020-12-30 lang:id -filter:retweets -filter:replies -filter:links').get_items()):\n",
    "    if i > maxTweets:\n",
    "        break\n",
    "    user52.append([tweet.date, tweet.id, tweet.content, tweet.username])"
   ]
  },
  {
   "cell_type": "code",
   "execution_count": 187,
   "metadata": {},
   "outputs": [
    {
     "data": {
      "text/plain": [
       "Datetime    144\n",
       "TweetID     144\n",
       "Text        144\n",
       "Username    144\n",
       "dtype: int64"
      ]
     },
     "execution_count": 187,
     "metadata": {},
     "output_type": "execute_result"
    }
   ],
   "source": [
    "df52 = pd.DataFrame(user52, columns=['Datetime', 'TweetID', 'Text', 'Username'])\n",
    "df52.count()"
   ]
  },
  {
   "cell_type": "code",
   "execution_count": 188,
   "metadata": {},
   "outputs": [],
   "source": [
    "frames = [df_100, df52]\n",
    "result100_fix = pd.concat(frames)"
   ]
  },
  {
   "cell_type": "code",
   "execution_count": 189,
   "metadata": {},
   "outputs": [
    {
     "name": "stdout",
     "output_type": "stream",
     "text": [
      "Total Username : 100\n"
     ]
    }
   ],
   "source": [
    "n = len(pd.unique(result100_fix['Username'])) \n",
    "  \n",
    "print(\"Total Username :\", n)"
   ]
  },
  {
   "cell_type": "code",
   "execution_count": 190,
   "metadata": {},
   "outputs": [],
   "source": [
    "result100_fix.to_csv('scrape_user_100new.csv')"
   ]
  },
  {
   "cell_type": "code",
   "execution_count": null,
   "metadata": {},
   "outputs": [],
   "source": []
  }
 ],
 "metadata": {
  "kernelspec": {
   "display_name": "Python 3",
   "language": "python",
   "name": "python3"
  },
  "language_info": {
   "codemirror_mode": {
    "name": "ipython",
    "version": 3
   },
   "file_extension": ".py",
   "mimetype": "text/x-python",
   "name": "python",
   "nbconvert_exporter": "python",
   "pygments_lexer": "ipython3",
   "version": "3.8.3"
  }
 },
 "nbformat": 4,
 "nbformat_minor": 4
}
