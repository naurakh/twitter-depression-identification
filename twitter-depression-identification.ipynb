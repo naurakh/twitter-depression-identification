{
  "nbformat": 4,
  "nbformat_minor": 0,
  "metadata": {
    "colab": {
      "name": "Identifikasi_Depresi_1301172540.ipynb",
      "provenance": [],
      "authorship_tag": "ABX9TyOGVsPyM5phQRl3Xe0+YU88"
    },
    "kernelspec": {
      "display_name": "Python 3",
      "name": "python3"
    },
    "language_info": {
      "name": "python"
    }
  },
  "cells": [
    {
      "cell_type": "code",
      "metadata": {
        "id": "e0EDLSeBwi14"
      },
      "source": [
        "from nltk.tokenize import RegexpTokenizer\n",
        "from nltk.stem import WordNetLemmatizer\n",
        "from tqdm import tqdm\n",
        "import random\n",
        "\n",
        "random.seed(100)"
      ],
      "execution_count": null,
      "outputs": []
    },
    {
      "cell_type": "code",
      "metadata": {
        "id": "6SB4H44Oxwta"
      },
      "source": [
        "import pandas as pd\n",
        "df = pd.read_csv('dataset_final.csv')"
      ],
      "execution_count": null,
      "outputs": []
    },
    {
      "cell_type": "code",
      "metadata": {
        "colab": {
          "base_uri": "https://localhost:8080/",
          "height": 333
        },
        "id": "9tlElvx1L8NF",
        "outputId": "1c5efb5e-3dbb-463d-fbcc-1d6712da0ca1"
      },
      "source": [
        "import seaborn as sns\n",
        "import matplotlib.pyplot as plt\n",
        "\n",
        "g = sns.countplot(df['Label'])\n",
        "g.set_xticklabels(['Non-Depression','Depression'])\n",
        "plt.show()"
      ],
      "execution_count": null,
      "outputs": [
        {
          "output_type": "stream",
          "text": [
            "/usr/local/lib/python3.7/dist-packages/seaborn/_decorators.py:43: FutureWarning: Pass the following variable as a keyword arg: x. From version 0.12, the only valid positional argument will be `data`, and passing other arguments without an explicit keyword will result in an error or misinterpretation.\n",
            "  FutureWarning\n"
          ],
          "name": "stderr"
        },
        {
          "output_type": "display_data",
          "data": {
            "image/png": "[encoded data removed]",
            "text/plain": [
              "<Figure size 432x288 with 1 Axes>"
            ]
          },
          "metadata": {
            "tags": [],
            "needs_background": "light"
          }
        }
      ]
    },
    {
      "cell_type": "code",
      "metadata": {
        "colab": {
          "base_uri": "https://localhost:8080/"
        },
        "id": "4U87XbX4cWp4",
        "outputId": "4e8c657f-1ede-435f-b758-ecad7bc9395f"
      },
      "source": [
        "# class count\n",
        "class_count_0, class_count_1 = df['Label'].value_counts()\n",
        "\n",
        "# Separate class\n",
        "class_0 = df[df['Label'] == 0]\n",
        "class_1 = df[df['Label'] == 1]# print the shape of the class\n",
        "print('class 0:', class_0.shape)\n",
        "print('class 1:', class_1.shape)"
      ],
      "execution_count": null,
      "outputs": [
        {
          "output_type": "stream",
          "text": [
            "class 0: (10538, 11)\n",
            "class 1: (608, 11)\n"
          ],
          "name": "stdout"
        }
      ]
    },
    {
      "cell_type": "code",
      "metadata": {
        "colab": {
          "base_uri": "https://localhost:8080/",
          "height": 346
        },
        "id": "NF04aM5-c5oi",
        "outputId": "64cbdeb1-674f-4394-c886-d583b145b613"
      },
      "source": [
        "class_1_over = class_1.sample(class_count_0, replace=True)\n",
        "\n",
        "test_over = pd.concat([class_1_over, class_0], axis=0)\n",
        "\n",
        "print(\"total class of 1 and 0:\",test_over['Label'].value_counts())# plot the count after under-sampeling\n",
        "test_over['Label'].value_counts().plot(kind='bar', title='count (target)')"
      ],
      "execution_count": null,
      "outputs": [
        {
          "output_type": "stream",
          "text": [
            "total class of 1 and 0: 1    10538\n",
            "0    10538\n",
            "Name: Label, dtype: int64\n"
          ],
          "name": "stdout"
        },
        {
          "output_type": "execute_result",
          "data": {
            "text/plain": [
              "<matplotlib.axes._subplots.AxesSubplot at 0x7f8d5609cfd0>"
            ]
          },
          "metadata": {
            "tags": []
          },
          "execution_count": 5
        },
        {
          "output_type": "display_data",
          "data": {
            "image/png": "[encoded data removed]",
            "text/plain": [
              "<Figure size 432x288 with 1 Axes>"
            ]
          },
          "metadata": {
            "tags": [],
            "needs_background": "light"
          }
        }
      ]
    },
    {
      "cell_type": "code",
      "metadata": {
        "id": "9xoyabjCeLNf"
      },
      "source": [
        "test_over.to_csv('dataset_oversampling.csv', index=False)\n",
        "dfover = pd.read_csv('dataset_oversampling.csv')"
      ],
      "execution_count": null,
      "outputs": []
    },
    {
      "cell_type": "code",
      "metadata": {
        "colab": {
          "base_uri": "https://localhost:8080/"
        },
        "id": "Oiz-JIcax3HU",
        "outputId": "434bd5b1-644e-485e-c457-84b39b337b42"
      },
      "source": [
        "tweets = list(dfover['text_tokens_stemmed'])\n",
        "twlist = tweets[0:200000]\n",
        "twlist[0:10]"
      ],
      "execution_count": null,
      "outputs": [
        {
          "output_type": "execute_result",
          "data": {
            "text/plain": [
              "[\"['seperti', 'tumpuk', 'kerja', 'seperti', 'kesal', 'sangat', 'ingin', 'kuliah', 'mati', 'sangat', 'allah', 'laknat', 'sangat', 'korona', 'sial', 'tidak', 'selesai']\",\n",
              " \"['semster', 'santai', 'semster', 'stress']\",\n",
              " \"['trauma', 'dari', 'pilih', 'diam', 'batin', 'terus', 'tolong', 'capek']\",\n",
              " \"['capek', 'pikir']\",\n",
              " \"['capek', 'sangat', 'allah']\",\n",
              " \"['usia', 'sedih', 'paling', 'satu bulan', 'sekalidua', 'kali', 'maks', 'usia', 'sedih', 'sudah', 'juli', 'gengsss']\",\n",
              " \"['tidak', 'gon', 'na', 'bohong', 'gila', 'saya', 'capek', 'sangat', 'sial', 'gila', 'hari', 'hadap', 'laptop']\",\n",
              " \"['baik', 'serah']\",\n",
              " \"['sudah', 'jam', 'ini', 'tidak percaya diri', 'ayo', 'cepettt']\",\n",
              " \"['kalau', 'sudah', 'jam', 'gin', 'pikir', 'tidak', 'karuan']\"]"
            ]
          },
          "metadata": {
            "tags": []
          },
          "execution_count": 7
        }
      ]
    },
    {
      "cell_type": "code",
      "metadata": {
        "id": "AkvTyeHbxtIW"
      },
      "source": [
        "vector_size = 32\n",
        "window = 5"
      ],
      "execution_count": null,
      "outputs": []
    },
    {
      "cell_type": "code",
      "metadata": {
        "colab": {
          "base_uri": "https://localhost:8080/"
        },
        "id": "_X19WG-txr29",
        "outputId": "1edf0c02-2435-4e66-b6f5-372eb38d4dea"
      },
      "source": [
        "from gensim.models import FastText\n",
        "\n",
        "import time\n",
        "\n",
        "fasttext_model = 'fasttext.model'\n",
        "\n",
        "print('Generating FastText Vectors ..')\n",
        "\n",
        "start = time.time()\n",
        "\n",
        "model = FastText(size=vector_size)\n",
        "model.build_vocab(tweets)\n",
        "model.train(tweets, window=window, min_count=1, workers=4, total_examples=model.corpus_count,\n",
        "           epochs=model.epochs)\n",
        "\n",
        "print('FastText Created in {} seconds.'.format(time.time() - start))\n",
        "\n",
        "model.save(fasttext_model)\n",
        "print('FastText Model saved at {}'.format(fasttext_model))\n"
      ],
      "execution_count": null,
      "outputs": [
        {
          "output_type": "stream",
          "text": [
            "Generating FastText Vectors ..\n",
            "FastText Created in 2.7247378826141357 seconds.\n",
            "FastText Model saved at fasttext.model\n"
          ],
          "name": "stdout"
        }
      ]
    },
    {
      "cell_type": "code",
      "metadata": {
        "id": "0t-VGTlGxgw-"
      },
      "source": [
        "model = FastText.load(fasttext_model)"
      ],
      "execution_count": null,
      "outputs": []
    },
    {
      "cell_type": "code",
      "metadata": {
        "id": "MDrdDo8HyZMh"
      },
      "source": [
        "x_vectors = model.wv"
      ],
      "execution_count": null,
      "outputs": []
    },
    {
      "cell_type": "code",
      "metadata": {
        "id": "kaLVKovaypzD"
      },
      "source": [
        "labels = dfover['Label']"
      ],
      "execution_count": null,
      "outputs": []
    },
    {
      "cell_type": "code",
      "metadata": {
        "colab": {
          "base_uri": "https://localhost:8080/"
        },
        "id": "I4djMmXrydRa",
        "outputId": "3a7e72d1-314b-4c82-8297-0930e34638b6"
      },
      "source": [
        "len(labels), len(tweets)"
      ],
      "execution_count": null,
      "outputs": [
        {
          "output_type": "execute_result",
          "data": {
            "text/plain": [
              "(21076, 21076)"
            ]
          },
          "metadata": {
            "tags": []
          },
          "execution_count": 42
        }
      ]
    },
    {
      "cell_type": "code",
      "metadata": {
        "id": "CTVt5pVRysN6"
      },
      "source": [
        "import numpy as np\n",
        "import keras.backend as K\n",
        "\n",
        "train_size = int(0.8*(len(tweets)))\n",
        "test_size = int(0.2*(len(tweets)))\n",
        "\n",
        "max_no_tokens = 50\n",
        "\n",
        "indexes = set(np.random.choice(len(tweets), train_size + test_size, replace=False))\n",
        "\n",
        "x_train = np.zeros((train_size, max_no_tokens, vector_size), dtype=K.floatx())\n",
        "y_train = np.zeros((train_size, 2), dtype=np.int64)\n",
        "\n",
        "x_test = np.zeros((test_size, max_no_tokens, vector_size), dtype=K.floatx())\n",
        "y_test = np.zeros((test_size, 2), dtype=np.int64)"
      ],
      "execution_count": null,
      "outputs": []
    },
    {
      "cell_type": "code",
      "metadata": {
        "id": "9gdXOgBjDTQ6"
      },
      "source": [
        "from sklearn.model_selection import train_test_split\n",
        "\n",
        "train_data, test_data = train_test_split(dfover[['Label' , 'text_tokens_stemmed']], test_size=0.2, random_state=1000, shuffle=True)\n",
        "test_data.to_csv('test_data.csv')\n",
        "train_data.to_csv('train_data.csv')"
      ],
      "execution_count": null,
      "outputs": []
    },
    {
      "cell_type": "code",
      "metadata": {
        "id": "kAFoY62-y75d"
      },
      "source": [
        "for i, index in enumerate(indexes):\n",
        "    for t, token in enumerate(tweets[index]):\n",
        "        if t >= max_no_tokens:\n",
        "            break\n",
        "      \n",
        "        if token not in x_vectors:\n",
        "            continue\n",
        "    \n",
        "        if i < train_size:\n",
        "            x_train[i, t, :] = x_vectors[token]\n",
        "        else:\n",
        "            x_test[i - train_size, t, :] = x_vectors[token]\n",
        "\n",
        "  \n",
        "    if i < train_size:\n",
        "        y_train[i, :] = [1.0, 0.0] if labels[index] == 0 else [0.0, 1.0]\n",
        "    else:\n",
        "        y_test[i - train_size, :] = [1.0, 0.0] if labels[index] == 0 else [0.0, 1.0]"
      ],
      "execution_count": null,
      "outputs": []
    },
    {
      "cell_type": "code",
      "metadata": {
        "colab": {
          "base_uri": "https://localhost:8080/"
        },
        "id": "QGn6tPo1zC_t",
        "outputId": "fcafa93c-0028-48c6-9fcb-52ce8ea579e4"
      },
      "source": [
        "x_train.shape, y_test.shape"
      ],
      "execution_count": null,
      "outputs": [
        {
          "output_type": "execute_result",
          "data": {
            "text/plain": [
              "((16860, 50, 32), (4215, 2))"
            ]
          },
          "metadata": {
            "tags": []
          },
          "execution_count": 46
        }
      ]
    },
    {
      "cell_type": "code",
      "metadata": {
        "id": "JqKGTRyxzHea"
      },
      "source": [
        "batch_size = 8\n",
        "no_epochs = 3"
      ],
      "execution_count": null,
      "outputs": []
    },
    {
      "cell_type": "code",
      "metadata": {
        "colab": {
          "base_uri": "https://localhost:8080/"
        },
        "id": "MGsw672vYwGX",
        "outputId": "45415cad-8431-4f55-c68e-10553d0fa039"
      },
      "source": [
        "from keras.models import Sequential\n",
        "from keras.layers import Conv1D, Dropout, Dense, Flatten, LSTM, MaxPooling1D, Bidirectional\n",
        "from keras.optimizers import Adam\n",
        "from keras.callbacks import EarlyStopping, TensorBoard\n",
        "from sklearn.model_selection import KFold\n",
        "import numpy as np\n",
        "\n",
        "num_folds =  10\n",
        "kfold = KFold(n_splits=num_folds, shuffle=True)\n",
        "fold_no = 10\n",
        "\n",
        "for train, test in kfold.split(x_train, y_train):\n",
        "  model = Sequential()\n",
        "\n",
        "  model.add(Conv1D(32, kernel_size=3, activation='elu', padding='same',\n",
        "                 input_shape=(max_no_tokens, vector_size)))\n",
        "  model.add(Conv1D(32, kernel_size=3, activation='elu', padding='same'))\n",
        "  model.add(Conv1D(32, kernel_size=3, activation='relu', padding='same'))\n",
        "  model.add(MaxPooling1D(pool_size=3))\n",
        "\n",
        "  model.add(LSTM(128, dropout=0.2, recurrent_dropout=0.2))\n",
        "\n",
        "  model.add(Dense(64, activation='sigmoid'))\n",
        "  model.add(Dropout(0.1))\n",
        "  model.add(Dense(64, activation='sigmoid'))\n",
        "  model.add(Dropout(0.1))\n",
        "  model.add(Dense(64, activation='sigmoid'))\n",
        "  model.add(Dropout(0.1))\n",
        "\n",
        "  model.add(Dense(2, activation='softmax'))\n",
        "\n",
        "  model.compile(loss='binary_crossentropy', optimizer=Adam(lr=0.0001, decay=1e-6), metrics=['accuracy'])\n",
        "\n",
        "  tensorboard = TensorBoard(log_dir='logs/', histogram_freq=0, write_graph=True, write_images=True)\n",
        "\n",
        "  model.summary()"
      ],
      "execution_count": null,
      "outputs": [
        {
          "output_type": "stream",
          "text": [
            "/usr/local/lib/python3.7/dist-packages/tensorflow/python/keras/optimizer_v2/optimizer_v2.py:375: UserWarning: The `lr` argument is deprecated, use `learning_rate` instead.\n",
            "  \"The `lr` argument is deprecated, use `learning_rate` instead.\")\n"
          ],
          "name": "stderr"
        },
        {
          "output_type": "stream",
          "text": [
            "Model: \"sequential_10\"\n",
            "_________________________________________________________________\n",
            "Layer (type)                 Output Shape              Param #   \n",
            "=================================================================\n",
            "conv1d_30 (Conv1D)           (None, 50, 32)            3104      \n",
            "_________________________________________________________________\n",
            "conv1d_31 (Conv1D)           (None, 50, 32)            3104      \n",
            "_________________________________________________________________\n",
            "conv1d_32 (Conv1D)           (None, 50, 32)            3104      \n",
            "_________________________________________________________________\n",
            "max_pooling1d_10 (MaxPooling (None, 16, 32)            0         \n",
            "_________________________________________________________________\n",
            "lstm_10 (LSTM)               (None, 128)               82432     \n",
            "_________________________________________________________________\n",
            "dense_40 (Dense)             (None, 64)                8256      \n",
            "_________________________________________________________________\n",
            "dropout_30 (Dropout)         (None, 64)                0         \n",
            "_________________________________________________________________\n",
            "dense_41 (Dense)             (None, 64)                4160      \n",
            "_________________________________________________________________\n",
            "dropout_31 (Dropout)         (None, 64)                0         \n",
            "_________________________________________________________________\n",
            "dense_42 (Dense)             (None, 64)                4160      \n",
            "_________________________________________________________________\n",
            "dropout_32 (Dropout)         (None, 64)                0         \n",
            "_________________________________________________________________\n",
            "dense_43 (Dense)             (None, 2)                 130       \n",
            "=================================================================\n",
            "Total params: 108,450\n",
            "Trainable params: 108,450\n",
            "Non-trainable params: 0\n",
            "_________________________________________________________________\n",
            "Model: \"sequential_11\"\n",
            "_________________________________________________________________\n",
            "Layer (type)                 Output Shape              Param #   \n",
            "=================================================================\n",
            "conv1d_33 (Conv1D)           (None, 50, 32)            3104      \n",
            "_________________________________________________________________\n",
            "conv1d_34 (Conv1D)           (None, 50, 32)            3104      \n",
            "_________________________________________________________________\n",
            "conv1d_35 (Conv1D)           (None, 50, 32)            3104      \n",
            "_________________________________________________________________\n",
            "max_pooling1d_11 (MaxPooling (None, 16, 32)            0         \n",
            "_________________________________________________________________\n",
            "lstm_11 (LSTM)               (None, 128)               82432     \n",
            "_________________________________________________________________\n",
            "dense_44 (Dense)             (None, 64)                8256      \n",
            "_________________________________________________________________\n",
            "dropout_33 (Dropout)         (None, 64)                0         \n",
            "_________________________________________________________________\n",
            "dense_45 (Dense)             (None, 64)                4160      \n",
            "_________________________________________________________________\n",
            "dropout_34 (Dropout)         (None, 64)                0         \n",
            "_________________________________________________________________\n",
            "dense_46 (Dense)             (None, 64)                4160      \n",
            "_________________________________________________________________\n",
            "dropout_35 (Dropout)         (None, 64)                0         \n",
            "_________________________________________________________________\n",
            "dense_47 (Dense)             (None, 2)                 130       \n",
            "=================================================================\n",
            "Total params: 108,450\n",
            "Trainable params: 108,450\n",
            "Non-trainable params: 0\n",
            "_________________________________________________________________\n",
            "Model: \"sequential_12\"\n",
            "_________________________________________________________________\n",
            "Layer (type)                 Output Shape              Param #   \n",
            "=================================================================\n",
            "conv1d_36 (Conv1D)           (None, 50, 32)            3104      \n",
            "_________________________________________________________________\n",
            "conv1d_37 (Conv1D)           (None, 50, 32)            3104      \n",
            "_________________________________________________________________\n",
            "conv1d_38 (Conv1D)           (None, 50, 32)            3104      \n",
            "_________________________________________________________________\n",
            "max_pooling1d_12 (MaxPooling (None, 16, 32)            0         \n",
            "_________________________________________________________________\n",
            "lstm_12 (LSTM)               (None, 128)               82432     \n",
            "_________________________________________________________________\n",
            "dense_48 (Dense)             (None, 64)                8256      \n",
            "_________________________________________________________________\n",
            "dropout_36 (Dropout)         (None, 64)                0         \n",
            "_________________________________________________________________\n",
            "dense_49 (Dense)             (None, 64)                4160      \n",
            "_________________________________________________________________\n",
            "dropout_37 (Dropout)         (None, 64)                0         \n",
            "_________________________________________________________________\n",
            "dense_50 (Dense)             (None, 64)                4160      \n",
            "_________________________________________________________________\n",
            "dropout_38 (Dropout)         (None, 64)                0         \n",
            "_________________________________________________________________\n",
            "dense_51 (Dense)             (None, 2)                 130       \n",
            "=================================================================\n",
            "Total params: 108,450\n",
            "Trainable params: 108,450\n",
            "Non-trainable params: 0\n",
            "_________________________________________________________________\n",
            "Model: \"sequential_13\"\n",
            "_________________________________________________________________\n",
            "Layer (type)                 Output Shape              Param #   \n",
            "=================================================================\n",
            "conv1d_39 (Conv1D)           (None, 50, 32)            3104      \n",
            "_________________________________________________________________\n",
            "conv1d_40 (Conv1D)           (None, 50, 32)            3104      \n",
            "_________________________________________________________________\n",
            "conv1d_41 (Conv1D)           (None, 50, 32)            3104      \n",
            "_________________________________________________________________\n",
            "max_pooling1d_13 (MaxPooling (None, 16, 32)            0         \n",
            "_________________________________________________________________\n",
            "lstm_13 (LSTM)               (None, 128)               82432     \n",
            "_________________________________________________________________\n",
            "dense_52 (Dense)             (None, 64)                8256      \n",
            "_________________________________________________________________\n",
            "dropout_39 (Dropout)         (None, 64)                0         \n",
            "_________________________________________________________________\n",
            "dense_53 (Dense)             (None, 64)                4160      \n",
            "_________________________________________________________________\n",
            "dropout_40 (Dropout)         (None, 64)                0         \n",
            "_________________________________________________________________\n",
            "dense_54 (Dense)             (None, 64)                4160      \n",
            "_________________________________________________________________\n",
            "dropout_41 (Dropout)         (None, 64)                0         \n",
            "_________________________________________________________________\n",
            "dense_55 (Dense)             (None, 2)                 130       \n",
            "=================================================================\n",
            "Total params: 108,450\n",
            "Trainable params: 108,450\n",
            "Non-trainable params: 0\n",
            "_________________________________________________________________\n",
            "Model: \"sequential_14\"\n",
            "_________________________________________________________________\n",
            "Layer (type)                 Output Shape              Param #   \n",
            "=================================================================\n",
            "conv1d_42 (Conv1D)           (None, 50, 32)            3104      \n",
            "_________________________________________________________________\n",
            "conv1d_43 (Conv1D)           (None, 50, 32)            3104      \n",
            "_________________________________________________________________\n",
            "conv1d_44 (Conv1D)           (None, 50, 32)            3104      \n",
            "_________________________________________________________________\n",
            "max_pooling1d_14 (MaxPooling (None, 16, 32)            0         \n",
            "_________________________________________________________________\n",
            "lstm_14 (LSTM)               (None, 128)               82432     \n",
            "_________________________________________________________________\n",
            "dense_56 (Dense)             (None, 64)                8256      \n",
            "_________________________________________________________________\n",
            "dropout_42 (Dropout)         (None, 64)                0         \n",
            "_________________________________________________________________\n",
            "dense_57 (Dense)             (None, 64)                4160      \n",
            "_________________________________________________________________\n",
            "dropout_43 (Dropout)         (None, 64)                0         \n",
            "_________________________________________________________________\n",
            "dense_58 (Dense)             (None, 64)                4160      \n",
            "_________________________________________________________________\n",
            "dropout_44 (Dropout)         (None, 64)                0         \n",
            "_________________________________________________________________\n",
            "dense_59 (Dense)             (None, 2)                 130       \n",
            "=================================================================\n",
            "Total params: 108,450\n",
            "Trainable params: 108,450\n",
            "Non-trainable params: 0\n",
            "_________________________________________________________________\n",
            "Model: \"sequential_15\"\n",
            "_________________________________________________________________\n",
            "Layer (type)                 Output Shape              Param #   \n",
            "=================================================================\n",
            "conv1d_45 (Conv1D)           (None, 50, 32)            3104      \n",
            "_________________________________________________________________\n",
            "conv1d_46 (Conv1D)           (None, 50, 32)            3104      \n",
            "_________________________________________________________________\n",
            "conv1d_47 (Conv1D)           (None, 50, 32)            3104      \n",
            "_________________________________________________________________\n",
            "max_pooling1d_15 (MaxPooling (None, 16, 32)            0         \n",
            "_________________________________________________________________\n",
            "lstm_15 (LSTM)               (None, 128)               82432     \n",
            "_________________________________________________________________\n",
            "dense_60 (Dense)             (None, 64)                8256      \n",
            "_________________________________________________________________\n",
            "dropout_45 (Dropout)         (None, 64)                0         \n",
            "_________________________________________________________________\n",
            "dense_61 (Dense)             (None, 64)                4160      \n",
            "_________________________________________________________________\n",
            "dropout_46 (Dropout)         (None, 64)                0         \n",
            "_________________________________________________________________\n",
            "dense_62 (Dense)             (None, 64)                4160      \n",
            "_________________________________________________________________\n",
            "dropout_47 (Dropout)         (None, 64)                0         \n",
            "_________________________________________________________________\n",
            "dense_63 (Dense)             (None, 2)                 130       \n",
            "=================================================================\n",
            "Total params: 108,450\n",
            "Trainable params: 108,450\n",
            "Non-trainable params: 0\n",
            "_________________________________________________________________\n",
            "Model: \"sequential_16\"\n",
            "_________________________________________________________________\n",
            "Layer (type)                 Output Shape              Param #   \n",
            "=================================================================\n",
            "conv1d_48 (Conv1D)           (None, 50, 32)            3104      \n",
            "_________________________________________________________________\n",
            "conv1d_49 (Conv1D)           (None, 50, 32)            3104      \n",
            "_________________________________________________________________\n",
            "conv1d_50 (Conv1D)           (None, 50, 32)            3104      \n",
            "_________________________________________________________________\n",
            "max_pooling1d_16 (MaxPooling (None, 16, 32)            0         \n",
            "_________________________________________________________________\n",
            "lstm_16 (LSTM)               (None, 128)               82432     \n",
            "_________________________________________________________________\n",
            "dense_64 (Dense)             (None, 64)                8256      \n",
            "_________________________________________________________________\n",
            "dropout_48 (Dropout)         (None, 64)                0         \n",
            "_________________________________________________________________\n",
            "dense_65 (Dense)             (None, 64)                4160      \n",
            "_________________________________________________________________\n",
            "dropout_49 (Dropout)         (None, 64)                0         \n",
            "_________________________________________________________________\n",
            "dense_66 (Dense)             (None, 64)                4160      \n",
            "_________________________________________________________________\n",
            "dropout_50 (Dropout)         (None, 64)                0         \n",
            "_________________________________________________________________\n",
            "dense_67 (Dense)             (None, 2)                 130       \n",
            "=================================================================\n",
            "Total params: 108,450\n",
            "Trainable params: 108,450\n",
            "Non-trainable params: 0\n",
            "_________________________________________________________________\n",
            "Model: \"sequential_17\"\n",
            "_________________________________________________________________\n",
            "Layer (type)                 Output Shape              Param #   \n",
            "=================================================================\n",
            "conv1d_51 (Conv1D)           (None, 50, 32)            3104      \n",
            "_________________________________________________________________\n",
            "conv1d_52 (Conv1D)           (None, 50, 32)            3104      \n",
            "_________________________________________________________________\n",
            "conv1d_53 (Conv1D)           (None, 50, 32)            3104      \n",
            "_________________________________________________________________\n",
            "max_pooling1d_17 (MaxPooling (None, 16, 32)            0         \n",
            "_________________________________________________________________\n",
            "lstm_17 (LSTM)               (None, 128)               82432     \n",
            "_________________________________________________________________\n",
            "dense_68 (Dense)             (None, 64)                8256      \n",
            "_________________________________________________________________\n",
            "dropout_51 (Dropout)         (None, 64)                0         \n",
            "_________________________________________________________________\n",
            "dense_69 (Dense)             (None, 64)                4160      \n",
            "_________________________________________________________________\n",
            "dropout_52 (Dropout)         (None, 64)                0         \n",
            "_________________________________________________________________\n",
            "dense_70 (Dense)             (None, 64)                4160      \n",
            "_________________________________________________________________\n",
            "dropout_53 (Dropout)         (None, 64)                0         \n",
            "_________________________________________________________________\n",
            "dense_71 (Dense)             (None, 2)                 130       \n",
            "=================================================================\n",
            "Total params: 108,450\n",
            "Trainable params: 108,450\n",
            "Non-trainable params: 0\n",
            "_________________________________________________________________\n",
            "Model: \"sequential_18\"\n",
            "_________________________________________________________________\n",
            "Layer (type)                 Output Shape              Param #   \n",
            "=================================================================\n",
            "conv1d_54 (Conv1D)           (None, 50, 32)            3104      \n",
            "_________________________________________________________________\n",
            "conv1d_55 (Conv1D)           (None, 50, 32)            3104      \n",
            "_________________________________________________________________\n",
            "conv1d_56 (Conv1D)           (None, 50, 32)            3104      \n",
            "_________________________________________________________________\n",
            "max_pooling1d_18 (MaxPooling (None, 16, 32)            0         \n",
            "_________________________________________________________________\n",
            "lstm_18 (LSTM)               (None, 128)               82432     \n",
            "_________________________________________________________________\n",
            "dense_72 (Dense)             (None, 64)                8256      \n",
            "_________________________________________________________________\n",
            "dropout_54 (Dropout)         (None, 64)                0         \n",
            "_________________________________________________________________\n",
            "dense_73 (Dense)             (None, 64)                4160      \n",
            "_________________________________________________________________\n",
            "dropout_55 (Dropout)         (None, 64)                0         \n",
            "_________________________________________________________________\n",
            "dense_74 (Dense)             (None, 64)                4160      \n",
            "_________________________________________________________________\n",
            "dropout_56 (Dropout)         (None, 64)                0         \n",
            "_________________________________________________________________\n",
            "dense_75 (Dense)             (None, 2)                 130       \n",
            "=================================================================\n",
            "Total params: 108,450\n",
            "Trainable params: 108,450\n",
            "Non-trainable params: 0\n",
            "_________________________________________________________________\n",
            "Model: \"sequential_19\"\n",
            "_________________________________________________________________\n",
            "Layer (type)                 Output Shape              Param #   \n",
            "=================================================================\n",
            "conv1d_57 (Conv1D)           (None, 50, 32)            3104      \n",
            "_________________________________________________________________\n",
            "conv1d_58 (Conv1D)           (None, 50, 32)            3104      \n",
            "_________________________________________________________________\n",
            "conv1d_59 (Conv1D)           (None, 50, 32)            3104      \n",
            "_________________________________________________________________\n",
            "max_pooling1d_19 (MaxPooling (None, 16, 32)            0         \n",
            "_________________________________________________________________\n",
            "lstm_19 (LSTM)               (None, 128)               82432     \n",
            "_________________________________________________________________\n",
            "dense_76 (Dense)             (None, 64)                8256      \n",
            "_________________________________________________________________\n",
            "dropout_57 (Dropout)         (None, 64)                0         \n",
            "_________________________________________________________________\n",
            "dense_77 (Dense)             (None, 64)                4160      \n",
            "_________________________________________________________________\n",
            "dropout_58 (Dropout)         (None, 64)                0         \n",
            "_________________________________________________________________\n",
            "dense_78 (Dense)             (None, 64)                4160      \n",
            "_________________________________________________________________\n",
            "dropout_59 (Dropout)         (None, 64)                0         \n",
            "_________________________________________________________________\n",
            "dense_79 (Dense)             (None, 2)                 130       \n",
            "=================================================================\n",
            "Total params: 108,450\n",
            "Trainable params: 108,450\n",
            "Non-trainable params: 0\n",
            "_________________________________________________________________\n"
          ],
          "name": "stdout"
        }
      ]
    },
    {
      "cell_type": "code",
      "metadata": {
        "colab": {
          "base_uri": "https://localhost:8080/"
        },
        "id": "nTdndjLbzV17",
        "outputId": "bcddc1b9-10b6-4f76-a111-e011c54611a7"
      },
      "source": [
        "history = model.fit(x_train, y_train, batch_size=batch_size, shuffle=True, epochs=no_epochs,\n",
        "          validation_data=(x_test, y_test), callbacks=[tensorboard, EarlyStopping(min_delta=0.0001, patience=10)])"
      ],
      "execution_count": null,
      "outputs": [
        {
          "output_type": "stream",
          "text": [
            "Epoch 1/3\n",
            "2108/2108 [==============================] - 86s 38ms/step - loss: 0.7080 - accuracy: 0.5656 - val_loss: 0.9715 - val_accuracy: 0.0000e+00\n",
            "Epoch 2/3\n",
            "2108/2108 [==============================] - 78s 37ms/step - loss: 0.6507 - accuracy: 0.6317 - val_loss: 0.7174 - val_accuracy: 0.6550\n",
            "Epoch 3/3\n",
            "2108/2108 [==============================] - 78s 37ms/step - loss: 0.5435 - accuracy: 0.7224 - val_loss: 0.8624 - val_accuracy: 0.5129\n"
          ],
          "name": "stdout"
        }
      ]
    },
    {
      "cell_type": "code",
      "metadata": {
        "colab": {
          "base_uri": "https://localhost:8080/"
        },
        "id": "tkX1mB8xzdXF",
        "outputId": "13220d9c-5b63-435c-efa0-cc39e927e6a8"
      },
      "source": [
        "model.metrics_names"
      ],
      "execution_count": null,
      "outputs": [
        {
          "output_type": "execute_result",
          "data": {
            "text/plain": [
              "['loss', 'accuracy']"
            ]
          },
          "metadata": {
            "tags": []
          },
          "execution_count": 50
        }
      ]
    },
    {
      "cell_type": "code",
      "metadata": {
        "colab": {
          "base_uri": "https://localhost:8080/"
        },
        "id": "7kfRO737dPSu",
        "outputId": "588c8325-67cc-4cfa-98e7-57f81876adcf"
      },
      "source": [
        "acc_per_fold = []\n",
        "loss_per_fold = []\n",
        "scores = model.evaluate(x_train[test], y_train[test], verbose=0)\n",
        "print(f'Score for fold {fold_no}: {model.metrics_names[0]} of {scores[0]}; {model.metrics_names[1]} of {scores[1]*100}%')\n",
        "acc_per_fold.append(scores[1])\n",
        "loss_per_fold.append(scores[0])\n"
      ],
      "execution_count": null,
      "outputs": [
        {
          "output_type": "stream",
          "text": [
            "Score for fold 10: loss of 0.45909950137138367; accuracy of 78.35112810134888%\n"
          ],
          "name": "stdout"
        }
      ]
    },
    {
      "cell_type": "code",
      "metadata": {
        "colab": {
          "base_uri": "https://localhost:8080/"
        },
        "id": "QDRLRVVVz-9n",
        "outputId": "7fb0d4ac-e951-4042-d088-2059c2d3183e"
      },
      "source": [
        "test_accuracy = model.evaluate(x=x_test, y=y_test, batch_size=100, verbose=0)\n",
        "print('Test accuracy : ',test_accuracy)"
      ],
      "execution_count": null,
      "outputs": [
        {
          "output_type": "stream",
          "text": [
            "Test accuracy :  [0.8624261617660522, 0.5129300355911255]\n"
          ],
          "name": "stdout"
        }
      ]
    },
    {
      "cell_type": "code",
      "metadata": {
        "id": "JuXljY5i0lUr"
      },
      "source": [
        "sample =  test_data.drop(test_data.index[len(test_data)-1])"
      ],
      "execution_count": null,
      "outputs": []
    },
    {
      "cell_type": "code",
      "metadata": {
        "colab": {
          "base_uri": "https://localhost:8080/",
          "height": 490
        },
        "id": "DFtK0yIU_863",
        "outputId": "fb79406a-723d-48d4-9725-cfc9053ddbe9"
      },
      "source": [
        "prediction = np.argmax(model.predict(x=x_test, batch_size=batch_size, verbose=1), axis=-1)\n",
        "sample['Prediksi']= (prediction>0.5).astype(int) \n",
        "sample[['Label', \"Prediksi\"]]"
      ],
      "execution_count": null,
      "outputs": [
        {
          "output_type": "stream",
          "text": [
            "/usr/local/lib/python3.7/dist-packages/keras/engine/sequential.py:450: UserWarning: `model.predict_classes()` is deprecated and will be removed after 2021-01-01. Please use instead:* `np.argmax(model.predict(x), axis=-1)`,   if your model does multi-class classification   (e.g. if it uses a `softmax` last-layer activation).* `(model.predict(x) > 0.5).astype(\"int32\")`,   if your model does binary classification   (e.g. if it uses a `sigmoid` last-layer activation).\n",
            "  warnings.warn('`model.predict_classes()` is deprecated and '\n"
          ],
          "name": "stderr"
        },
        {
          "output_type": "stream",
          "text": [
            "527/527 [==============================] - 3s 5ms/step\n"
          ],
          "name": "stdout"
        },
        {
          "output_type": "execute_result",
          "data": {
            "text/html": [
              "<div>\n",
              "<style scoped>\n",
              "    .dataframe tbody tr th:only-of-type {\n",
              "        vertical-align: middle;\n",
              "    }\n",
              "\n",
              "    .dataframe tbody tr th {\n",
              "        vertical-align: top;\n",
              "    }\n",
              "\n",
              "    .dataframe thead th {\n",
              "        text-align: right;\n",
              "    }\n",
              "</style>\n",
              "<table border=\"1\" class=\"dataframe\">\n",
              "  <thead>\n",
              "    <tr style=\"text-align: right;\">\n",
              "      <th></th>\n",
              "      <th>Label</th>\n",
              "      <th>Prediksi</th>\n",
              "    </tr>\n",
              "  </thead>\n",
              "  <tbody>\n",
              "    <tr>\n",
              "      <th>19106</th>\n",
              "      <td>0</td>\n",
              "      <td>1</td>\n",
              "    </tr>\n",
              "    <tr>\n",
              "      <th>8182</th>\n",
              "      <td>1</td>\n",
              "      <td>0</td>\n",
              "    </tr>\n",
              "    <tr>\n",
              "      <th>5863</th>\n",
              "      <td>1</td>\n",
              "      <td>1</td>\n",
              "    </tr>\n",
              "    <tr>\n",
              "      <th>2165</th>\n",
              "      <td>1</td>\n",
              "      <td>1</td>\n",
              "    </tr>\n",
              "    <tr>\n",
              "      <th>4297</th>\n",
              "      <td>1</td>\n",
              "      <td>1</td>\n",
              "    </tr>\n",
              "    <tr>\n",
              "      <th>...</th>\n",
              "      <td>...</td>\n",
              "      <td>...</td>\n",
              "    </tr>\n",
              "    <tr>\n",
              "      <th>15620</th>\n",
              "      <td>0</td>\n",
              "      <td>0</td>\n",
              "    </tr>\n",
              "    <tr>\n",
              "      <th>14511</th>\n",
              "      <td>0</td>\n",
              "      <td>0</td>\n",
              "    </tr>\n",
              "    <tr>\n",
              "      <th>13707</th>\n",
              "      <td>0</td>\n",
              "      <td>1</td>\n",
              "    </tr>\n",
              "    <tr>\n",
              "      <th>2470</th>\n",
              "      <td>1</td>\n",
              "      <td>1</td>\n",
              "    </tr>\n",
              "    <tr>\n",
              "      <th>12295</th>\n",
              "      <td>0</td>\n",
              "      <td>0</td>\n",
              "    </tr>\n",
              "  </tbody>\n",
              "</table>\n",
              "<p>4215 rows × 2 columns</p>\n",
              "</div>"
            ],
            "text/plain": [
              "       Label  Prediksi\n",
              "19106      0         1\n",
              "8182       1         0\n",
              "5863       1         1\n",
              "2165       1         1\n",
              "4297       1         1\n",
              "...      ...       ...\n",
              "15620      0         0\n",
              "14511      0         0\n",
              "13707      0         1\n",
              "2470       1         1\n",
              "12295      0         0\n",
              "\n",
              "[4215 rows x 2 columns]"
            ]
          },
          "metadata": {
            "tags": []
          },
          "execution_count": 55
        }
      ]
    },
    {
      "cell_type": "code",
      "metadata": {
        "id": "EkkuIrFR3SaA",
        "colab": {
          "base_uri": "https://localhost:8080/"
        },
        "outputId": "72872c44-01c6-4f75-f4e0-301eb4c909eb"
      },
      "source": [
        "sample['Prediksi'].value_counts()"
      ],
      "execution_count": null,
      "outputs": [
        {
          "output_type": "execute_result",
          "data": {
            "text/plain": [
              "0    2162\n",
              "1    2053\n",
              "Name: Prediksi, dtype: int64"
            ]
          },
          "metadata": {
            "tags": []
          },
          "execution_count": 56
        }
      ]
    },
    {
      "cell_type": "code",
      "metadata": {
        "id": "7-3Z-ieMeFPB",
        "colab": {
          "base_uri": "https://localhost:8080/"
        },
        "outputId": "25816577-4ba3-43ee-c506-ec4756af0b8c"
      },
      "source": [
        "sample['Label'].value_counts()"
      ],
      "execution_count": null,
      "outputs": [
        {
          "output_type": "execute_result",
          "data": {
            "text/plain": [
              "1    2124\n",
              "0    2091\n",
              "Name: Label, dtype: int64"
            ]
          },
          "metadata": {
            "tags": []
          },
          "execution_count": 57
        }
      ]
    },
    {
      "cell_type": "code",
      "metadata": {
        "id": "B-8DdZldD-Hv",
        "colab": {
          "base_uri": "https://localhost:8080/"
        },
        "outputId": "c2d6111b-e184-4dcf-fa14-a10d92d3f978"
      },
      "source": [
        "from sklearn.metrics import confusion_matrix\n",
        "\n",
        "ytrue = list(sample['Label'])\n",
        "ypred = list(sample['Prediksi'])\n",
        "\n",
        "confusion_matrix(ytrue, ypred)"
      ],
      "execution_count": null,
      "outputs": [
        {
          "output_type": "execute_result",
          "data": {
            "text/plain": [
              "array([[1091, 1000],\n",
              "       [1071, 1053]])"
            ]
          },
          "metadata": {
            "tags": []
          },
          "execution_count": 58
        }
      ]
    },
    {
      "cell_type": "code",
      "metadata": {
        "colab": {
          "base_uri": "https://localhost:8080/",
          "height": 419
        },
        "id": "GIPtvQ0t0yCo",
        "outputId": "d886ac08-0d41-4156-fcd9-113cb3637758"
      },
      "source": [
        "hasil_prediksi_0 = sample.loc[sample['Prediksi'] == 0]\n",
        "hasil_prediksi_0"
      ],
      "execution_count": null,
      "outputs": [
        {
          "output_type": "execute_result",
          "data": {
            "text/html": [
              "<div>\n",
              "<style scoped>\n",
              "    .dataframe tbody tr th:only-of-type {\n",
              "        vertical-align: middle;\n",
              "    }\n",
              "\n",
              "    .dataframe tbody tr th {\n",
              "        vertical-align: top;\n",
              "    }\n",
              "\n",
              "    .dataframe thead th {\n",
              "        text-align: right;\n",
              "    }\n",
              "</style>\n",
              "<table border=\"1\" class=\"dataframe\">\n",
              "  <thead>\n",
              "    <tr style=\"text-align: right;\">\n",
              "      <th></th>\n",
              "      <th>Label</th>\n",
              "      <th>text_tokens_stemmed</th>\n",
              "      <th>Prediksi</th>\n",
              "    </tr>\n",
              "  </thead>\n",
              "  <tbody>\n",
              "    <tr>\n",
              "      <th>8182</th>\n",
              "      <td>1</td>\n",
              "      <td>['sudah', 'serah']</td>\n",
              "      <td>0</td>\n",
              "    </tr>\n",
              "    <tr>\n",
              "      <th>13489</th>\n",
              "      <td>0</td>\n",
              "      <td>['coba', 'saya', 'percaya', 'isi', 'un', 'beli...</td>\n",
              "      <td>0</td>\n",
              "    </tr>\n",
              "    <tr>\n",
              "      <th>20219</th>\n",
              "      <td>0</td>\n",
              "      <td>['selamat', 'pagi', 'dunia', 'tiputipu']</td>\n",
              "      <td>0</td>\n",
              "    </tr>\n",
              "    <tr>\n",
              "      <th>10303</th>\n",
              "      <td>1</td>\n",
              "      <td>['kuliah', 'rabu', 'kamis', 'siksa', 'sangat',...</td>\n",
              "      <td>0</td>\n",
              "    </tr>\n",
              "    <tr>\n",
              "      <th>19393</th>\n",
              "      <td>0</td>\n",
              "      <td>['yeyyy', 'hujan', 'derasss']</td>\n",
              "      <td>0</td>\n",
              "    </tr>\n",
              "    <tr>\n",
              "      <th>...</th>\n",
              "      <td>...</td>\n",
              "      <td>...</td>\n",
              "      <td>...</td>\n",
              "    </tr>\n",
              "    <tr>\n",
              "      <th>14780</th>\n",
              "      <td>0</td>\n",
              "      <td>['keunfoll', 'maaf', 'ganggu', 'akun']</td>\n",
              "      <td>0</td>\n",
              "    </tr>\n",
              "    <tr>\n",
              "      <th>4564</th>\n",
              "      <td>1</td>\n",
              "      <td>['antuk', 'tidak', 'tidur', 'karena', 'pikir',...</td>\n",
              "      <td>0</td>\n",
              "    </tr>\n",
              "    <tr>\n",
              "      <th>15620</th>\n",
              "      <td>0</td>\n",
              "      <td>['bantu', 'buat', 'proposal', 'kuantitatif', '...</td>\n",
              "      <td>0</td>\n",
              "    </tr>\n",
              "    <tr>\n",
              "      <th>14511</th>\n",
              "      <td>0</td>\n",
              "      <td>['mantan', 'sudah', 'nikah', 'nich']</td>\n",
              "      <td>0</td>\n",
              "    </tr>\n",
              "    <tr>\n",
              "      <th>12295</th>\n",
              "      <td>0</td>\n",
              "      <td>['kasihan', 'nct', 'swab']</td>\n",
              "      <td>0</td>\n",
              "    </tr>\n",
              "  </tbody>\n",
              "</table>\n",
              "<p>2162 rows × 3 columns</p>\n",
              "</div>"
            ],
            "text/plain": [
              "       Label                                text_tokens_stemmed  Prediksi\n",
              "8182       1                                 ['sudah', 'serah']         0\n",
              "13489      0  ['coba', 'saya', 'percaya', 'isi', 'un', 'beli...         0\n",
              "20219      0           ['selamat', 'pagi', 'dunia', 'tiputipu']         0\n",
              "10303      1  ['kuliah', 'rabu', 'kamis', 'siksa', 'sangat',...         0\n",
              "19393      0                      ['yeyyy', 'hujan', 'derasss']         0\n",
              "...      ...                                                ...       ...\n",
              "14780      0             ['keunfoll', 'maaf', 'ganggu', 'akun']         0\n",
              "4564       1  ['antuk', 'tidak', 'tidur', 'karena', 'pikir',...         0\n",
              "15620      0  ['bantu', 'buat', 'proposal', 'kuantitatif', '...         0\n",
              "14511      0               ['mantan', 'sudah', 'nikah', 'nich']         0\n",
              "12295      0                         ['kasihan', 'nct', 'swab']         0\n",
              "\n",
              "[2162 rows x 3 columns]"
            ]
          },
          "metadata": {
            "tags": []
          },
          "execution_count": 59
        }
      ]
    },
    {
      "cell_type": "code",
      "metadata": {
        "colab": {
          "base_uri": "https://localhost:8080/",
          "height": 419
        },
        "id": "M0Ee1DQK4q-p",
        "outputId": "159cbcc0-cf03-47cb-f0ee-d120fffcefd5"
      },
      "source": [
        "hasil_prediksi_1 = sample.loc[sample['Prediksi'] == 1]\n",
        "hasil_prediksi_1"
      ],
      "execution_count": null,
      "outputs": [
        {
          "output_type": "execute_result",
          "data": {
            "text/html": [
              "<div>\n",
              "<style scoped>\n",
              "    .dataframe tbody tr th:only-of-type {\n",
              "        vertical-align: middle;\n",
              "    }\n",
              "\n",
              "    .dataframe tbody tr th {\n",
              "        vertical-align: top;\n",
              "    }\n",
              "\n",
              "    .dataframe thead th {\n",
              "        text-align: right;\n",
              "    }\n",
              "</style>\n",
              "<table border=\"1\" class=\"dataframe\">\n",
              "  <thead>\n",
              "    <tr style=\"text-align: right;\">\n",
              "      <th></th>\n",
              "      <th>Label</th>\n",
              "      <th>text_tokens_stemmed</th>\n",
              "      <th>Prediksi</th>\n",
              "    </tr>\n",
              "  </thead>\n",
              "  <tbody>\n",
              "    <tr>\n",
              "      <th>19106</th>\n",
              "      <td>0</td>\n",
              "      <td>['sendiri', 'senang']</td>\n",
              "      <td>1</td>\n",
              "    </tr>\n",
              "    <tr>\n",
              "      <th>5863</th>\n",
              "      <td>1</td>\n",
              "      <td>['kuliah', 'daring', 'buat', 'niat', 'ajar', '...</td>\n",
              "      <td>1</td>\n",
              "    </tr>\n",
              "    <tr>\n",
              "      <th>2165</th>\n",
              "      <td>1</td>\n",
              "      <td>['capek', 'sangat', 'tidur', 'jam', 'gin', 'mu...</td>\n",
              "      <td>1</td>\n",
              "    </tr>\n",
              "    <tr>\n",
              "      <th>4297</th>\n",
              "      <td>1</td>\n",
              "      <td>['apa', 'sudah', 'enek', 'sangat', 'kuliah', '...</td>\n",
              "      <td>1</td>\n",
              "    </tr>\n",
              "    <tr>\n",
              "      <th>8564</th>\n",
              "      <td>1</td>\n",
              "      <td>['kuliah', 'daring', 'tidak', 'mikir', 'sudah'...</td>\n",
              "      <td>1</td>\n",
              "    </tr>\n",
              "    <tr>\n",
              "      <th>...</th>\n",
              "      <td>...</td>\n",
              "      <td>...</td>\n",
              "      <td>...</td>\n",
              "    </tr>\n",
              "    <tr>\n",
              "      <th>6699</th>\n",
              "      <td>1</td>\n",
              "      <td>['obat', 'sakit', 'kepala', 'kepala', 'sakit',...</td>\n",
              "      <td>1</td>\n",
              "    </tr>\n",
              "    <tr>\n",
              "      <th>3019</th>\n",
              "      <td>1</td>\n",
              "      <td>['kuliah', 'daring', 'buat', 'stress', 'anjing']</td>\n",
              "      <td>1</td>\n",
              "    </tr>\n",
              "    <tr>\n",
              "      <th>6823</th>\n",
              "      <td>1</td>\n",
              "      <td>['fase', 'capek', 'capek', 'ingin', 'sangat', ...</td>\n",
              "      <td>1</td>\n",
              "    </tr>\n",
              "    <tr>\n",
              "      <th>13707</th>\n",
              "      <td>0</td>\n",
              "      <td>['kuliah daring', 'undip', 'down', 'tidak', 's...</td>\n",
              "      <td>1</td>\n",
              "    </tr>\n",
              "    <tr>\n",
              "      <th>2470</th>\n",
              "      <td>1</td>\n",
              "      <td>['sudah', 'gila']</td>\n",
              "      <td>1</td>\n",
              "    </tr>\n",
              "  </tbody>\n",
              "</table>\n",
              "<p>2053 rows × 3 columns</p>\n",
              "</div>"
            ],
            "text/plain": [
              "       Label                                text_tokens_stemmed  Prediksi\n",
              "19106      0                              ['sendiri', 'senang']         1\n",
              "5863       1  ['kuliah', 'daring', 'buat', 'niat', 'ajar', '...         1\n",
              "2165       1  ['capek', 'sangat', 'tidur', 'jam', 'gin', 'mu...         1\n",
              "4297       1  ['apa', 'sudah', 'enek', 'sangat', 'kuliah', '...         1\n",
              "8564       1  ['kuliah', 'daring', 'tidak', 'mikir', 'sudah'...         1\n",
              "...      ...                                                ...       ...\n",
              "6699       1  ['obat', 'sakit', 'kepala', 'kepala', 'sakit',...         1\n",
              "3019       1   ['kuliah', 'daring', 'buat', 'stress', 'anjing']         1\n",
              "6823       1  ['fase', 'capek', 'capek', 'ingin', 'sangat', ...         1\n",
              "13707      0  ['kuliah daring', 'undip', 'down', 'tidak', 's...         1\n",
              "2470       1                                  ['sudah', 'gila']         1\n",
              "\n",
              "[2053 rows x 3 columns]"
            ]
          },
          "metadata": {
            "tags": []
          },
          "execution_count": 60
        }
      ]
    },
    {
      "cell_type": "code",
      "metadata": {
        "id": "L0UsPyeVu-zk"
      },
      "source": [
        "hasil_prediksi_0.to_csv('hasilprediksi0.csv')\n",
        "hasil_prediksi_1.to_csv('hasilprediksi1.csv')"
      ],
      "execution_count": null,
      "outputs": []
    },
    {
      "cell_type": "code",
      "metadata": {
        "colab": {
          "base_uri": "https://localhost:8080/"
        },
        "id": "mPz522CJFNR5",
        "outputId": "d59bc874-c98f-4e5b-c41f-1d0c2d5e80e0"
      },
      "source": [
        "tn, fp, fn, tp = confusion_matrix(sample['Label'], sample['Prediksi']).ravel()\n",
        "(tn, fp, fn, tp)"
      ],
      "execution_count": null,
      "outputs": [
        {
          "output_type": "execute_result",
          "data": {
            "text/plain": [
              "(1091, 1000, 1071, 1053)"
            ]
          },
          "metadata": {
            "tags": []
          },
          "execution_count": 61
        }
      ]
    },
    {
      "cell_type": "code",
      "metadata": {
        "colab": {
          "base_uri": "https://localhost:8080/"
        },
        "id": "g1KgyB9WFfvY",
        "outputId": "9e9ec644-e215-4961-ee3d-7674ad322a42"
      },
      "source": [
        "precision = tp/(tp+fp)\n",
        "recall = tp/(tp+fn)\n",
        "f1 = (2*recall*precision)/(recall+precision)\n",
        "acc = (tp+tn)/(tp+tn+fp+fn)\n",
        "\n",
        "print('Precision : ',precision)\n",
        "print('Recall : ',recall) \n",
        "print('F1 : ', f1)\n",
        "print('Accuracy : ', acc)"
      ],
      "execution_count": null,
      "outputs": [
        {
          "output_type": "stream",
          "text": [
            "Precision :  0.5129079396005846\n",
            "Recall :  0.4957627118644068\n",
            "F1 :  0.504189609767776\n",
            "Accuracy :  0.5086595492289443\n"
          ],
          "name": "stdout"
        }
      ]
    },
    {
      "cell_type": "code",
      "metadata": {
        "colab": {
          "base_uri": "https://localhost:8080/"
        },
        "id": "uw75kwG20B1y",
        "outputId": "3bd36998-72c9-4e6d-d142-08cd3ebeac52"
      },
      "source": [
        "model.save('tweets-fasttext-lstm_2.model')"
      ],
      "execution_count": null,
      "outputs": [
        {
          "output_type": "stream",
          "text": [
            "INFO:tensorflow:Assets written to: tweets-fasttext-lstm_2.model/assets\n"
          ],
          "name": "stdout"
        }
      ]
    },
    {
      "cell_type": "code",
      "metadata": {
        "id": "E3jc4Dnl1DVi"
      },
      "source": [
        ""
      ],
      "execution_count": null,
      "outputs": []
    }
  ]
}